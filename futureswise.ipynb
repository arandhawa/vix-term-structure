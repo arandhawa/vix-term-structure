{
 "cells": [
  {
   "cell_type": "code",
   "execution_count": 1,
   "metadata": {
    "collapsed": true
   },
   "outputs": [],
   "source": [
    "import calendar\n",
    "\n",
    "import numpy as np\n",
    "import pandas as pd\n",
    "import matplotlib.pyplot as plt\n",
    "import matplotlib as mpl"
   ]
  },
  {
   "cell_type": "code",
   "execution_count": 2,
   "metadata": {
    "collapsed": true
   },
   "outputs": [],
   "source": [
    "mpl.rcParams[\"figure.figsize\"] = 16, 9"
   ]
  },
  {
   "cell_type": "code",
   "execution_count": 3,
   "metadata": {},
   "outputs": [],
   "source": [
    "#data = (pd.read_csv(\"/home/leyht/Downloads/untitled folder/{}.csv\".format(k), header=0, index_col=0,\n",
    "#                    parse_dates=True) for k in calendar.month_name[1:])\n",
    "#data = pd.concat(data, keys=range(1,13), names=(\"month\", \"date\"))\n",
    "#data.to_hdf(\"data/futureswise.h5\", \"data\", complevel=9, complib=\"bzip2\")"
   ]
  },
  {
   "cell_type": "code",
   "execution_count": 4,
   "metadata": {},
   "outputs": [],
   "source": [
    "data = pd.read_hdf(\"data/futureswise.h5\")\n",
    "termstructure = pd.read_csv(\"data/8_m_settle.csv\", usecols=range(1,10), parse_dates=True,\n",
    "                            header=0, index_col=0, na_values=0)"
   ]
  },
  {
   "cell_type": "code",
   "execution_count": 5,
   "metadata": {},
   "outputs": [
    {
     "name": "stderr",
     "output_type": "stream",
     "text": [
      "Exception ignored in: 'pandas._libs.tslib._localize_tso'\n",
      "Traceback (most recent call last):\n",
      "  File \"pandas/_libs/tslib.pyx\", line 4332, in pandas._libs.tslib._get_dst_info (pandas/_libs/tslib.c:72500)\n",
      "  File \"pandas/_libs/tslib.pyx\", line 1425, in pandas._libs.tslib._get_utcoffset (pandas/_libs/tslib.c:27137)\n",
      "AttributeError: 'Int64Index' object has no attribute 'utcoffset'\n",
      "Exception ignored in: 'pandas._libs.tslib._localize_tso'\n",
      "Traceback (most recent call last):\n",
      "  File \"pandas/_libs/tslib.pyx\", line 4332, in pandas._libs.tslib._get_dst_info (pandas/_libs/tslib.c:72500)\n",
      "  File \"pandas/_libs/tslib.pyx\", line 1425, in pandas._libs.tslib._get_utcoffset (pandas/_libs/tslib.c:27137)\n",
      "AttributeError: 'Int64Index' object has no attribute 'utcoffset'\n",
      "Exception ignored in: 'pandas._libs.tslib._localize_tso'\n",
      "Traceback (most recent call last):\n",
      "  File \"pandas/_libs/tslib.pyx\", line 4332, in pandas._libs.tslib._get_dst_info (pandas/_libs/tslib.c:72500)\n",
      "  File \"pandas/_libs/tslib.pyx\", line 1425, in pandas._libs.tslib._get_utcoffset (pandas/_libs/tslib.c:27137)\n",
      "AttributeError: 'Int64Index' object has no attribute 'utcoffset'\n",
      "Exception ignored in: 'pandas._libs.tslib._localize_tso'\n",
      "Traceback (most recent call last):\n",
      "  File \"pandas/_libs/tslib.pyx\", line 4332, in pandas._libs.tslib._get_dst_info (pandas/_libs/tslib.c:72500)\n",
      "  File \"pandas/_libs/tslib.pyx\", line 1425, in pandas._libs.tslib._get_utcoffset (pandas/_libs/tslib.c:27137)\n",
      "AttributeError: 'Int64Index' object has no attribute 'utcoffset'\n",
      "Exception ignored in: 'pandas._libs.tslib._localize_tso'\n",
      "Traceback (most recent call last):\n",
      "  File \"pandas/_libs/tslib.pyx\", line 4332, in pandas._libs.tslib._get_dst_info (pandas/_libs/tslib.c:72500)\n",
      "  File \"pandas/_libs/tslib.pyx\", line 1425, in pandas._libs.tslib._get_utcoffset (pandas/_libs/tslib.c:27137)\n",
      "AttributeError: 'Int64Index' object has no attribute 'utcoffset'\n",
      "Exception ignored in: 'pandas._libs.tslib._localize_tso'\n",
      "Traceback (most recent call last):\n",
      "  File \"pandas/_libs/tslib.pyx\", line 4332, in pandas._libs.tslib._get_dst_info (pandas/_libs/tslib.c:72500)\n",
      "  File \"pandas/_libs/tslib.pyx\", line 1425, in pandas._libs.tslib._get_utcoffset (pandas/_libs/tslib.c:27137)\n",
      "AttributeError: 'Int64Index' object has no attribute 'utcoffset'\n",
      "Exception ignored in: 'pandas._libs.tslib._localize_tso'\n",
      "Traceback (most recent call last):\n",
      "  File \"pandas/_libs/tslib.pyx\", line 4332, in pandas._libs.tslib._get_dst_info (pandas/_libs/tslib.c:72500)\n",
      "  File \"pandas/_libs/tslib.pyx\", line 1425, in pandas._libs.tslib._get_utcoffset (pandas/_libs/tslib.c:27137)\n",
      "AttributeError: 'Int64Index' object has no attribute 'utcoffset'\n",
      "Exception ignored in: 'pandas._libs.tslib._localize_tso'\n",
      "Traceback (most recent call last):\n",
      "  File \"pandas/_libs/tslib.pyx\", line 4332, in pandas._libs.tslib._get_dst_info (pandas/_libs/tslib.c:72500)\n",
      "  File \"pandas/_libs/tslib.pyx\", line 1425, in pandas._libs.tslib._get_utcoffset (pandas/_libs/tslib.c:27137)\n",
      "AttributeError: 'Int64Index' object has no attribute 'utcoffset'\n",
      "Exception ignored in: 'pandas._libs.tslib._localize_tso'\n",
      "Traceback (most recent call last):\n",
      "  File \"pandas/_libs/tslib.pyx\", line 4332, in pandas._libs.tslib._get_dst_info (pandas/_libs/tslib.c:72500)\n",
      "  File \"pandas/_libs/tslib.pyx\", line 1425, in pandas._libs.tslib._get_utcoffset (pandas/_libs/tslib.c:27137)\n",
      "AttributeError: 'Int64Index' object has no attribute 'utcoffset'\n",
      "Exception ignored in: 'pandas._libs.tslib._localize_tso'\n",
      "Traceback (most recent call last):\n",
      "  File \"pandas/_libs/tslib.pyx\", line 4332, in pandas._libs.tslib._get_dst_info (pandas/_libs/tslib.c:72500)\n",
      "  File \"pandas/_libs/tslib.pyx\", line 1425, in pandas._libs.tslib._get_utcoffset (pandas/_libs/tslib.c:27137)\n",
      "AttributeError: 'Int64Index' object has no attribute 'utcoffset'\n",
      "Exception ignored in: 'pandas._libs.tslib._localize_tso'\n",
      "Traceback (most recent call last):\n",
      "  File \"pandas/_libs/tslib.pyx\", line 4332, in pandas._libs.tslib._get_dst_info (pandas/_libs/tslib.c:72500)\n",
      "  File \"pandas/_libs/tslib.pyx\", line 1425, in pandas._libs.tslib._get_utcoffset (pandas/_libs/tslib.c:27137)\n",
      "AttributeError: 'Int64Index' object has no attribute 'utcoffset'\n",
      "Exception ignored in: 'pandas._libs.tslib._localize_tso'\n",
      "Traceback (most recent call last):\n",
      "  File \"pandas/_libs/tslib.pyx\", line 4332, in pandas._libs.tslib._get_dst_info (pandas/_libs/tslib.c:72500)\n",
      "  File \"pandas/_libs/tslib.pyx\", line 1425, in pandas._libs.tslib._get_utcoffset (pandas/_libs/tslib.c:27137)\n",
      "AttributeError: 'Int64Index' object has no attribute 'utcoffset'\n",
      "Exception ignored in: 'pandas._libs.tslib._localize_tso'\n",
      "Traceback (most recent call last):\n",
      "  File \"pandas/_libs/tslib.pyx\", line 4332, in pandas._libs.tslib._get_dst_info (pandas/_libs/tslib.c:72500)\n",
      "  File \"pandas/_libs/tslib.pyx\", line 1425, in pandas._libs.tslib._get_utcoffset (pandas/_libs/tslib.c:27137)\n",
      "AttributeError: 'Int64Index' object has no attribute 'utcoffset'\n",
      "Exception ignored in: 'pandas._libs.tslib._localize_tso'\n",
      "Traceback (most recent call last):\n",
      "  File \"pandas/_libs/tslib.pyx\", line 4332, in pandas._libs.tslib._get_dst_info (pandas/_libs/tslib.c:72500)\n",
      "  File \"pandas/_libs/tslib.pyx\", line 1425, in pandas._libs.tslib._get_utcoffset (pandas/_libs/tslib.c:27137)\n",
      "AttributeError: 'Int64Index' object has no attribute 'utcoffset'\n"
     ]
    }
   ],
   "source": [
    "for year in data:\n",
    "    yint = int(year)\n",
    "    # This internally raises an exception but it's just some localization problem.\n",
    "    # The resulting data seems correct.\n",
    "    data[year].index = pd.MultiIndex(levels=[data[year].index.levels[0],\n",
    "                                             data[year].index.levels[1].map(lambda x: pd.Timestamp(yint, x.month, x.day))],\n",
    "                                     labels=data[year].index.labels)"
   ]
  },
  {
   "cell_type": "code",
   "execution_count": 6,
   "metadata": {},
   "outputs": [],
   "source": [
    "# Concatenate the columns to get a large series of spread prices.\n",
    "spreads = pd.concat((data[year].dropna() for year in data))"
   ]
  },
  {
   "cell_type": "code",
   "execution_count": 7,
   "metadata": {},
   "outputs": [],
   "source": [
    "date_mask = spreads.index.droplevel(0).isin(termstructure.index)\n",
    "filtered_spreads = spreads.where(date_mask).dropna()"
   ]
  },
  {
   "cell_type": "code",
   "execution_count": 8,
   "metadata": {},
   "outputs": [
    {
     "data": {
      "text/plain": [
       "month\n",
       "6    -0.200\n",
       "7     0.450\n",
       "8    -0.300\n",
       "9     0.375\n",
       "10    0.100\n",
       "11    0.200\n",
       "12   -0.800\n",
       "dtype: float64"
      ]
     },
     "execution_count": 8,
     "metadata": {},
     "output_type": "execute_result"
    }
   ],
   "source": [
    "# These are the spread prices loaded from file.\n",
    "filtered_spreads[:,\"2017-04-27\"]"
   ]
  },
  {
   "cell_type": "code",
   "execution_count": 9,
   "metadata": {},
   "outputs": [
    {
     "data": {
      "text/plain": [
       "[-0.27000000000000135,\n",
       " 0.46000000000000085,\n",
       " -0.3100000000000005,\n",
       " 0.41999999999999815,\n",
       " 0.050000000000004263,\n",
       " 0.24999999999999645]"
      ]
     },
     "execution_count": 9,
     "metadata": {},
     "output_type": "execute_result"
    }
   ],
   "source": [
    "# These are spread prices calculated from the term structure.\n",
    "# Why are these different from each other?\n",
    "termstructure.loc[\"2017-04-27\"].aggregate(lambda x: [2*x[i] - x[i-1] - x[i+1] for i in range(1,7)])"
   ]
  }
 ],
 "metadata": {
  "kernelspec": {
   "display_name": "Python 3",
   "language": "python",
   "name": "python3"
  },
  "language_info": {
   "codemirror_mode": {
    "name": "ipython",
    "version": 3
   },
   "file_extension": ".py",
   "mimetype": "text/x-python",
   "name": "python",
   "nbconvert_exporter": "python",
   "pygments_lexer": "ipython3",
   "version": "3.6.2"
  }
 },
 "nbformat": 4,
 "nbformat_minor": 2
}
