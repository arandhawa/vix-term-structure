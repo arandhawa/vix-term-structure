{
 "cells": [
  {
   "cell_type": "code",
   "execution_count": 1,
   "metadata": {
    "collapsed": true
   },
   "outputs": [],
   "source": [
    "import calendar\n",
    "from collections import Counter\n",
    "from math import log\n",
    "from typing import Tuple, Sequence\n",
    "\n",
    "import numpy as np\n",
    "import pandas as pd\n",
    "import matplotlib.pyplot as plt\n",
    "import matplotlib as mpl"
   ]
  },
  {
   "cell_type": "code",
   "execution_count": 2,
   "metadata": {
    "collapsed": true
   },
   "outputs": [],
   "source": [
    "mpl.rcParams[\"figure.figsize\"] = 16, 9"
   ]
  },
  {
   "cell_type": "code",
   "execution_count": 3,
   "metadata": {
    "collapsed": true
   },
   "outputs": [],
   "source": [
    "#data = (pd.read_csv(\"/home/leyht/Downloads/untitled folder/{}.csv\".format(k), header=0, index_col=0,\n",
    "#                    parse_dates=True) for k in calendar.month_name[1:])\n",
    "#data = pd.concat(data, keys=range(1,13), names=(\"month\", \"date\"))\n",
    "#data.to_hdf(\"data/futureswise.h5\", \"data\", complevel=9, complib=\"bzip2\")"
   ]
  },
  {
   "cell_type": "code",
   "execution_count": 4,
   "metadata": {},
   "outputs": [],
   "source": [
    "data = pd.read_hdf(\"data/futureswise.h5\")\n",
    "expirations = pd.read_csv(\"data/expirations.csv\", header=0, usecols=range(1,10),\n",
    "                          parse_dates=list(range(9)), index_col=0)\n",
    "termstructure = pd.read_csv(\"data/8_m_settle.csv\", usecols=range(1,10), parse_dates=True,\n",
    "                            header=0, index_col=0, na_values=0)"
   ]
  },
  {
   "cell_type": "code",
   "execution_count": 5,
   "metadata": {},
   "outputs": [
    {
     "name": "stderr",
     "output_type": "stream",
     "text": [
      "Exception ignored in: 'pandas._libs.tslib._localize_tso'\n",
      "Traceback (most recent call last):\n",
      "  File \"pandas/_libs/tslib.pyx\", line 4332, in pandas._libs.tslib._get_dst_info (pandas/_libs/tslib.c:72500)\n",
      "  File \"pandas/_libs/tslib.pyx\", line 1425, in pandas._libs.tslib._get_utcoffset (pandas/_libs/tslib.c:27137)\n",
      "AttributeError: 'Int64Index' object has no attribute 'utcoffset'\n",
      "Exception ignored in: 'pandas._libs.tslib._localize_tso'\n",
      "Traceback (most recent call last):\n",
      "  File \"pandas/_libs/tslib.pyx\", line 4332, in pandas._libs.tslib._get_dst_info (pandas/_libs/tslib.c:72500)\n",
      "  File \"pandas/_libs/tslib.pyx\", line 1425, in pandas._libs.tslib._get_utcoffset (pandas/_libs/tslib.c:27137)\n",
      "AttributeError: 'Int64Index' object has no attribute 'utcoffset'\n",
      "Exception ignored in: 'pandas._libs.tslib._localize_tso'\n",
      "Traceback (most recent call last):\n",
      "  File \"pandas/_libs/tslib.pyx\", line 4332, in pandas._libs.tslib._get_dst_info (pandas/_libs/tslib.c:72500)\n",
      "  File \"pandas/_libs/tslib.pyx\", line 1425, in pandas._libs.tslib._get_utcoffset (pandas/_libs/tslib.c:27137)\n",
      "AttributeError: 'Int64Index' object has no attribute 'utcoffset'\n",
      "Exception ignored in: 'pandas._libs.tslib._localize_tso'\n",
      "Traceback (most recent call last):\n",
      "  File \"pandas/_libs/tslib.pyx\", line 4332, in pandas._libs.tslib._get_dst_info (pandas/_libs/tslib.c:72500)\n",
      "  File \"pandas/_libs/tslib.pyx\", line 1425, in pandas._libs.tslib._get_utcoffset (pandas/_libs/tslib.c:27137)\n",
      "AttributeError: 'Int64Index' object has no attribute 'utcoffset'\n",
      "Exception ignored in: 'pandas._libs.tslib._localize_tso'\n",
      "Traceback (most recent call last):\n",
      "  File \"pandas/_libs/tslib.pyx\", line 4332, in pandas._libs.tslib._get_dst_info (pandas/_libs/tslib.c:72500)\n",
      "  File \"pandas/_libs/tslib.pyx\", line 1425, in pandas._libs.tslib._get_utcoffset (pandas/_libs/tslib.c:27137)\n",
      "AttributeError: 'Int64Index' object has no attribute 'utcoffset'\n",
      "Exception ignored in: 'pandas._libs.tslib._localize_tso'\n",
      "Traceback (most recent call last):\n",
      "  File \"pandas/_libs/tslib.pyx\", line 4332, in pandas._libs.tslib._get_dst_info (pandas/_libs/tslib.c:72500)\n",
      "  File \"pandas/_libs/tslib.pyx\", line 1425, in pandas._libs.tslib._get_utcoffset (pandas/_libs/tslib.c:27137)\n",
      "AttributeError: 'Int64Index' object has no attribute 'utcoffset'\n",
      "Exception ignored in: 'pandas._libs.tslib._localize_tso'\n",
      "Traceback (most recent call last):\n",
      "  File \"pandas/_libs/tslib.pyx\", line 4332, in pandas._libs.tslib._get_dst_info (pandas/_libs/tslib.c:72500)\n",
      "  File \"pandas/_libs/tslib.pyx\", line 1425, in pandas._libs.tslib._get_utcoffset (pandas/_libs/tslib.c:27137)\n",
      "AttributeError: 'Int64Index' object has no attribute 'utcoffset'\n",
      "Exception ignored in: 'pandas._libs.tslib._localize_tso'\n",
      "Traceback (most recent call last):\n",
      "  File \"pandas/_libs/tslib.pyx\", line 4332, in pandas._libs.tslib._get_dst_info (pandas/_libs/tslib.c:72500)\n",
      "  File \"pandas/_libs/tslib.pyx\", line 1425, in pandas._libs.tslib._get_utcoffset (pandas/_libs/tslib.c:27137)\n",
      "AttributeError: 'Int64Index' object has no attribute 'utcoffset'\n",
      "Exception ignored in: 'pandas._libs.tslib._localize_tso'\n",
      "Traceback (most recent call last):\n",
      "  File \"pandas/_libs/tslib.pyx\", line 4332, in pandas._libs.tslib._get_dst_info (pandas/_libs/tslib.c:72500)\n",
      "  File \"pandas/_libs/tslib.pyx\", line 1425, in pandas._libs.tslib._get_utcoffset (pandas/_libs/tslib.c:27137)\n",
      "AttributeError: 'Int64Index' object has no attribute 'utcoffset'\n",
      "Exception ignored in: 'pandas._libs.tslib._localize_tso'\n",
      "Traceback (most recent call last):\n",
      "  File \"pandas/_libs/tslib.pyx\", line 4332, in pandas._libs.tslib._get_dst_info (pandas/_libs/tslib.c:72500)\n",
      "  File \"pandas/_libs/tslib.pyx\", line 1425, in pandas._libs.tslib._get_utcoffset (pandas/_libs/tslib.c:27137)\n",
      "AttributeError: 'Int64Index' object has no attribute 'utcoffset'\n",
      "Exception ignored in: 'pandas._libs.tslib._localize_tso'\n",
      "Traceback (most recent call last):\n",
      "  File \"pandas/_libs/tslib.pyx\", line 4332, in pandas._libs.tslib._get_dst_info (pandas/_libs/tslib.c:72500)\n",
      "  File \"pandas/_libs/tslib.pyx\", line 1425, in pandas._libs.tslib._get_utcoffset (pandas/_libs/tslib.c:27137)\n",
      "AttributeError: 'Int64Index' object has no attribute 'utcoffset'\n",
      "Exception ignored in: 'pandas._libs.tslib._localize_tso'\n",
      "Traceback (most recent call last):\n",
      "  File \"pandas/_libs/tslib.pyx\", line 4332, in pandas._libs.tslib._get_dst_info (pandas/_libs/tslib.c:72500)\n",
      "  File \"pandas/_libs/tslib.pyx\", line 1425, in pandas._libs.tslib._get_utcoffset (pandas/_libs/tslib.c:27137)\n",
      "AttributeError: 'Int64Index' object has no attribute 'utcoffset'\n",
      "Exception ignored in: 'pandas._libs.tslib._localize_tso'\n",
      "Traceback (most recent call last):\n",
      "  File \"pandas/_libs/tslib.pyx\", line 4332, in pandas._libs.tslib._get_dst_info (pandas/_libs/tslib.c:72500)\n",
      "  File \"pandas/_libs/tslib.pyx\", line 1425, in pandas._libs.tslib._get_utcoffset (pandas/_libs/tslib.c:27137)\n",
      "AttributeError: 'Int64Index' object has no attribute 'utcoffset'\n",
      "Exception ignored in: 'pandas._libs.tslib._localize_tso'\n",
      "Traceback (most recent call last):\n",
      "  File \"pandas/_libs/tslib.pyx\", line 4332, in pandas._libs.tslib._get_dst_info (pandas/_libs/tslib.c:72500)\n",
      "  File \"pandas/_libs/tslib.pyx\", line 1425, in pandas._libs.tslib._get_utcoffset (pandas/_libs/tslib.c:27137)\n",
      "AttributeError: 'Int64Index' object has no attribute 'utcoffset'\n"
     ]
    }
   ],
   "source": [
    "for year in data:\n",
    "    yint = int(year)\n",
    "    # This internally raises an exception but it's just some localization problem.\n",
    "    # The resulting data seems correct.\n",
    "    data[year].index = pd.MultiIndex(levels=[data[year].index.levels[0],\n",
    "                                             data[year].index.levels[1].map(lambda x: pd.Timestamp(yint, x.month, x.day))],\n",
    "                                     labels=data[year].index.labels)"
   ]
  },
  {
   "cell_type": "code",
   "execution_count": 6,
   "metadata": {
    "collapsed": true
   },
   "outputs": [],
   "source": [
    "# Concatenate the columns to get a large series of spread prices.\n",
    "spreads = pd.concat((data[year].dropna() for year in data))"
   ]
  },
  {
   "cell_type": "code",
   "execution_count": 7,
   "metadata": {
    "collapsed": true
   },
   "outputs": [],
   "source": [
    "date_mask = spreads.index.droplevel(0).isin(termstructure.index)\n",
    "filtered_spreads = spreads.where(date_mask).dropna()"
   ]
  },
  {
   "cell_type": "code",
   "execution_count": 8,
   "metadata": {},
   "outputs": [
    {
     "data": {
      "text/plain": [
       "month\n",
       "6    -0.200\n",
       "7     0.450\n",
       "8    -0.300\n",
       "9     0.375\n",
       "10    0.100\n",
       "11    0.200\n",
       "12   -0.800\n",
       "dtype: float64"
      ]
     },
     "execution_count": 8,
     "metadata": {},
     "output_type": "execute_result"
    }
   ],
   "source": [
    "# These are the spread prices loaded from file.\n",
    "filtered_spreads[:,\"2017-04-27\"]"
   ]
  },
  {
   "cell_type": "code",
   "execution_count": 9,
   "metadata": {},
   "outputs": [
    {
     "data": {
      "text/plain": [
       "[-0.27000000000000135,\n",
       " 0.46000000000000085,\n",
       " -0.3100000000000005,\n",
       " 0.41999999999999815,\n",
       " 0.050000000000004263,\n",
       " 0.24999999999999645]"
      ]
     },
     "execution_count": 9,
     "metadata": {},
     "output_type": "execute_result"
    }
   ],
   "source": [
    "# These are spread prices calculated from the term structure.\n",
    "# Why are these different from each other?\n",
    "termstructure.loc[\"2017-04-27\"].aggregate(lambda x: [-x[i] + 2*x[i+1] - x[i+2] for i in range(6)])"
   ]
  },
  {
   "cell_type": "markdown",
   "metadata": {},
   "source": [
    "# Problem\n",
    "\n",
    "Doesn't seem like I can fit the new data of spread prices to the term structures. \n",
    "\n",
    "Better to get the spread prices in their necessary representation directly from the old proven term structure data."
   ]
  },
  {
   "cell_type": "code",
   "execution_count": 10,
   "metadata": {},
   "outputs": [],
   "source": [
    "assert expirations.shape == termstructure.shape\n",
    "assert expirations.index.equals(termstructure.index)"
   ]
  },
  {
   "cell_type": "code",
   "execution_count": 11,
   "metadata": {},
   "outputs": [],
   "source": [
    "long_prices = termstructure.apply(lambda x: [np.nan] + [2*x[i] - x[i-1] - x[i+1] for i in range(1, len(x) - 1)] + [np.nan],\n",
    "                                  axis=1, reduce=False)\n",
    "long_prices.dropna(axis=(0,1), how=\"all\", inplace=True)"
   ]
  },
  {
   "cell_type": "code",
   "execution_count": 12,
   "metadata": {
    "collapsed": true
   },
   "outputs": [],
   "source": [
    "threshold_date = \"2006-10-23\""
   ]
  },
  {
   "cell_type": "code",
   "execution_count": 13,
   "metadata": {},
   "outputs": [],
   "source": [
    "long_prices_thresh = long_prices[threshold_date:]\n",
    "day_diff = pd.Series(long_prices_thresh.index[1:]- long_prices_thresh.index[:-1])\n",
    "count_day_diff = Counter(day_diff)"
   ]
  },
  {
   "cell_type": "code",
   "execution_count": 14,
   "metadata": {},
   "outputs": [
    {
     "data": {
      "text/plain": [
       "Counter({Timedelta('1 days 00:00:00'): 2081,\n",
       "         Timedelta('2 days 00:00:00'): 24,\n",
       "         Timedelta('3 days 00:00:00'): 478,\n",
       "         Timedelta('4 days 00:00:00'): 70,\n",
       "         Timedelta('5 days 00:00:00'): 2})"
      ]
     },
     "execution_count": 14,
     "metadata": {},
     "output_type": "execute_result"
    }
   ],
   "source": [
    "# There's not much difference between two index dates lying next to each other.\n",
    "# Further modifications aren't necessary.\n",
    "count_day_diff"
   ]
  },
  {
   "cell_type": "code",
   "execution_count": 15,
   "metadata": {},
   "outputs": [],
   "source": [
    "termstructure_thresh = termstructure[threshold_date:]\n",
    "assert len(termstructure_thresh) == len(long_prices_thresh)"
   ]
  },
  {
   "cell_type": "code",
   "execution_count": 16,
   "metadata": {},
   "outputs": [],
   "source": [
    "days_into_future = 1"
   ]
  },
  {
   "cell_type": "code",
   "execution_count": 17,
   "metadata": {},
   "outputs": [],
   "source": [
    "y = pd.concat((long_prices_thresh.iloc[days_into_future:][column]\n",
    "               for column in long_prices_thresh))\n",
    "x = termstructure_thresh.iloc[:-days_into_future]\n",
    "for i in range(len(long_prices_thresh.columns) - 1):\n",
    "    x = x.append(termstructure_thresh.iloc[:-days_into_future])\n",
    "assert len(y) == len(x)\n",
    "x = x.where((np.tile(y.notnull().values, (len(x.columns),1)).T)).dropna(axis=0, how=\"all\")\n",
    "y = y.where(y.notnull()).dropna()\n",
    "assert len(y) == len(x)"
   ]
  },
  {
   "cell_type": "code",
   "execution_count": 18,
   "metadata": {},
   "outputs": [],
   "source": [
    "#x.to_hdf(\"data/futureswise_mapping.h5\", \"x\", complevel=9, complib=\"bzip2\")\n",
    "#y.to_hdf(\"data/futureswise_mapping.h5\", \"y\", complevel=9, complib=\"bzip2\")"
   ]
  },
  {
   "cell_type": "markdown",
   "metadata": {},
   "source": [
    "# Not we've prepared the data\n",
    "\n",
    "Cool. So $x$ is the data mapping to target $y$. But now I'd like to split in into test and validation set similar to the other representation."
   ]
  },
  {
   "cell_type": "code",
   "execution_count": 19,
   "metadata": {},
   "outputs": [
    {
     "data": {
      "text/plain": [
       "array([    0,  2655,  5310,  7965, 10593, 13047, 15193])"
      ]
     },
     "execution_count": 19,
     "metadata": {},
     "output_type": "execute_result"
    }
   ],
   "source": [
    "split_between_years = np.append(0, y.index.get_loc(\"2017-05-11\") + 1)\n",
    "splits = split_between_years\n",
    "split_between_years"
   ]
  },
  {
   "cell_type": "code",
   "execution_count": 20,
   "metadata": {},
   "outputs": [],
   "source": [
    "def split_indices(a: int, b: int, val_split=0.15, test_split=0.15):\n",
    "    half = int((b - a) / 2)\n",
    "    val_len = int(half * val_split)\n",
    "    test_len = int(half * test_split)\n",
    "    val1 = a + half - val_len - test_len\n",
    "    test1 = a + half - test_len\n",
    "    data = a + half\n",
    "    val2 = b - val_len - test_len\n",
    "    test2 = b - test_len\n",
    "    return a, val1, test1, data, val2, test2, b"
   ]
  },
  {
   "cell_type": "code",
   "execution_count": 21,
   "metadata": {
    "collapsed": true
   },
   "outputs": [],
   "source": [
    "def splitted_dataset(dataset, splits: Sequence):\n",
    "    indices = pd.DataFrame((split_indices(splits[i], splits[i+1]) for i in range(len(splits) - 1)),\n",
    "                           columns=(\"data1\", \"val1\", \"test1\", \"data2\", \"val2\", \"test2\", \"end\"))\n",
    "    d1, v1, t1, d2, v2, t2 = ([dataset.iloc[a:b] for a, b in zip(indices.iloc[:,i], indices.iloc[:,i+1])]\n",
    "                              for i in range(len(indices.columns) - 1))\n",
    "    return pd.concat(d1 + d2), pd.concat(v1 + v2), pd.concat(t1 + t2)"
   ]
  },
  {
   "cell_type": "code",
   "execution_count": 22,
   "metadata": {},
   "outputs": [
    {
     "data": {
      "text/html": [
       "<div>\n",
       "<style>\n",
       "    .dataframe thead tr:only-child th {\n",
       "        text-align: right;\n",
       "    }\n",
       "\n",
       "    .dataframe thead th {\n",
       "        text-align: left;\n",
       "    }\n",
       "\n",
       "    .dataframe tbody tr th {\n",
       "        vertical-align: top;\n",
       "    }\n",
       "</style>\n",
       "<table border=\"1\" class=\"dataframe\">\n",
       "  <thead>\n",
       "    <tr style=\"text-align: right;\">\n",
       "      <th></th>\n",
       "      <th>data1</th>\n",
       "      <th>val1</th>\n",
       "      <th>test1</th>\n",
       "      <th>data2</th>\n",
       "      <th>val2</th>\n",
       "      <th>test2</th>\n",
       "      <th>end</th>\n",
       "    </tr>\n",
       "  </thead>\n",
       "  <tbody>\n",
       "    <tr>\n",
       "      <th>0</th>\n",
       "      <td>0</td>\n",
       "      <td>929</td>\n",
       "      <td>1128</td>\n",
       "      <td>1327</td>\n",
       "      <td>2257</td>\n",
       "      <td>2456</td>\n",
       "      <td>2655</td>\n",
       "    </tr>\n",
       "    <tr>\n",
       "      <th>1</th>\n",
       "      <td>2655</td>\n",
       "      <td>3584</td>\n",
       "      <td>3783</td>\n",
       "      <td>3982</td>\n",
       "      <td>4912</td>\n",
       "      <td>5111</td>\n",
       "      <td>5310</td>\n",
       "    </tr>\n",
       "    <tr>\n",
       "      <th>2</th>\n",
       "      <td>5310</td>\n",
       "      <td>6239</td>\n",
       "      <td>6438</td>\n",
       "      <td>6637</td>\n",
       "      <td>7567</td>\n",
       "      <td>7766</td>\n",
       "      <td>7965</td>\n",
       "    </tr>\n",
       "    <tr>\n",
       "      <th>3</th>\n",
       "      <td>7965</td>\n",
       "      <td>8885</td>\n",
       "      <td>9082</td>\n",
       "      <td>9279</td>\n",
       "      <td>10199</td>\n",
       "      <td>10396</td>\n",
       "      <td>10593</td>\n",
       "    </tr>\n",
       "    <tr>\n",
       "      <th>4</th>\n",
       "      <td>10593</td>\n",
       "      <td>11452</td>\n",
       "      <td>11636</td>\n",
       "      <td>11820</td>\n",
       "      <td>12679</td>\n",
       "      <td>12863</td>\n",
       "      <td>13047</td>\n",
       "    </tr>\n",
       "    <tr>\n",
       "      <th>5</th>\n",
       "      <td>13047</td>\n",
       "      <td>13800</td>\n",
       "      <td>13960</td>\n",
       "      <td>14120</td>\n",
       "      <td>14873</td>\n",
       "      <td>15033</td>\n",
       "      <td>15193</td>\n",
       "    </tr>\n",
       "  </tbody>\n",
       "</table>\n",
       "</div>"
      ],
      "text/plain": [
       "   data1   val1  test1  data2   val2  test2    end\n",
       "0      0    929   1128   1327   2257   2456   2655\n",
       "1   2655   3584   3783   3982   4912   5111   5310\n",
       "2   5310   6239   6438   6637   7567   7766   7965\n",
       "3   7965   8885   9082   9279  10199  10396  10593\n",
       "4  10593  11452  11636  11820  12679  12863  13047\n",
       "5  13047  13800  13960  14120  14873  15033  15193"
      ]
     },
     "execution_count": 22,
     "metadata": {},
     "output_type": "execute_result"
    }
   ],
   "source": [
    "indices = pd.DataFrame((split_indices(splits[i], splits[i+1]) for i in range(len(splits) - 1)),\n",
    "                       columns=(\"data1\", \"val1\", \"test1\", \"data2\", \"val2\", \"test2\", \"end\"))\n",
    "indices"
   ]
  },
  {
   "cell_type": "code",
   "execution_count": 23,
   "metadata": {},
   "outputs": [],
   "source": [
    "xdata, xval, xtest = splitted_dataset(x, split_between_years)\n",
    "assert len(xdata) + len(xval) + len(xtest) == len(x)\n",
    "ydata, yval, ytest = splitted_dataset(y, split_between_years)\n",
    "assert len(ydata) + len(yval) + len(ytest) == len(y)"
   ]
  }
 ],
 "metadata": {
  "kernelspec": {
   "display_name": "Python 3",
   "language": "python",
   "name": "python3"
  },
  "language_info": {
   "codemirror_mode": {
    "name": "ipython",
    "version": 3
   },
   "file_extension": ".py",
   "mimetype": "text/x-python",
   "name": "python",
   "nbconvert_exporter": "python",
   "pygments_lexer": "ipython3",
   "version": "3.6.2"
  }
 },
 "nbformat": 4,
 "nbformat_minor": 2
}
