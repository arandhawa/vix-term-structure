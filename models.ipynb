{
 "cells": [
  {
   "cell_type": "code",
   "execution_count": 1,
   "metadata": {
    "collapsed": true
   },
   "outputs": [],
   "source": [
    "import os\n",
    "\n",
    "import pandas as pd\n",
    "import numpy as np\n",
    "import tensorflow.contrib.keras as keras\n",
    "\n",
    "from vixstructure.utils import parse_model_repr\n",
    "from vixstructure.data import LongPricesDataset"
   ]
  },
  {
   "cell_type": "markdown",
   "metadata": {},
   "source": [
    "## Experiment 01"
   ]
  },
  {
   "cell_type": "code",
   "execution_count": 3,
   "metadata": {},
   "outputs": [],
   "source": [
    "directory, _, files = next(os.walk(\"models/experiment01\"))\n",
    "h5_files = tuple(file for file in files if os.path.splitext(file)[1] == \".h5\")\n",
    "csv_files = tuple(file for file in files if os.path.splitext(file)[1] == \".csv\")"
   ]
  },
  {
   "cell_type": "code",
   "execution_count": 4,
   "metadata": {
    "collapsed": true
   },
   "outputs": [],
   "source": [
    "stats = [(parse_model_repr(os.path.splitext(file)[0]),\n",
    "          pd.read_csv(os.path.join(directory, file), header=0, index_col=0, dtype=np.float32))\n",
    "         for file in csv_files]"
   ]
  },
  {
   "cell_type": "code",
   "execution_count": 9,
   "metadata": {},
   "outputs": [],
   "source": [
    "parameters, stats_data = zip(*stats)"
   ]
  },
  {
   "cell_type": "code",
   "execution_count": 21,
   "metadata": {},
   "outputs": [],
   "source": [
    "# TODO A function that (1) reduces the data of normalized models to two columns and\n",
    "#                      (2) puts all DataFrames together to some MultiIndex frame."
   ]
  }
 ],
 "metadata": {
  "kernelspec": {
   "display_name": "Python 3",
   "language": "python",
   "name": "python3"
  },
  "language_info": {
   "codemirror_mode": {
    "name": "ipython",
    "version": 3
   },
   "file_extension": ".py",
   "mimetype": "text/x-python",
   "name": "python",
   "nbconvert_exporter": "python",
   "pygments_lexer": "ipython3",
   "version": "3.5.2"
  }
 },
 "nbformat": 4,
 "nbformat_minor": 2
}
