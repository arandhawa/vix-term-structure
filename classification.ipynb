{
 "cells": [
  {
   "cell_type": "code",
   "execution_count": 140,
   "metadata": {},
   "outputs": [],
   "source": [
    "import operator\n",
    "\n",
    "import pandas as pd\n",
    "import numpy as np\n",
    "import matplotlib.pyplot as plt\n",
    "from matplotlib import rcParams, cm\n",
    "from mpl_toolkits.mplot3d import Axes3D\n",
    "import tensorflow.contrib.keras as keras\n",
    "\n",
    "from vixstructure.data import LongPricesDataset"
   ]
  },
  {
   "cell_type": "code",
   "execution_count": 23,
   "metadata": {
    "collapsed": true
   },
   "outputs": [],
   "source": [
    "rcParams[\"figure.figsize\"] = 12, 6"
   ]
  },
  {
   "cell_type": "code",
   "execution_count": 3,
   "metadata": {},
   "outputs": [],
   "source": [
    "dataset = LongPricesDataset(\"data/8_m_settle.csv\", \"data/expirations.csv\")"
   ]
  },
  {
   "cell_type": "code",
   "execution_count": 4,
   "metadata": {},
   "outputs": [],
   "source": [
    "x = dataset.term_structure.data_frame\n",
    "y = x.apply(lambda x: [np.nan] + [2*x.iloc[i] - x.iloc[i-1] - x.iloc[i+1] for i in range(1, 7)] + [np.nan],\n",
    "            axis=1).iloc[:, 1:-1]"
   ]
  },
  {
   "cell_type": "code",
   "execution_count": 5,
   "metadata": {},
   "outputs": [
    {
     "data": {
      "text/html": [
       "<div>\n",
       "<style>\n",
       "    .dataframe thead tr:only-child th {\n",
       "        text-align: right;\n",
       "    }\n",
       "\n",
       "    .dataframe thead th {\n",
       "        text-align: left;\n",
       "    }\n",
       "\n",
       "    .dataframe tbody tr th {\n",
       "        vertical-align: top;\n",
       "    }\n",
       "</style>\n",
       "<table border=\"1\" class=\"dataframe\">\n",
       "  <thead>\n",
       "    <tr style=\"text-align: right;\">\n",
       "      <th></th>\n",
       "      <th>M2</th>\n",
       "      <th>M3</th>\n",
       "      <th>M4</th>\n",
       "      <th>M5</th>\n",
       "      <th>M6</th>\n",
       "      <th>M7</th>\n",
       "    </tr>\n",
       "  </thead>\n",
       "  <tbody>\n",
       "    <tr>\n",
       "      <th>count</th>\n",
       "      <td>2656.000000</td>\n",
       "      <td>2656.000000</td>\n",
       "      <td>2656.000000</td>\n",
       "      <td>2629.000000</td>\n",
       "      <td>2455.000000</td>\n",
       "      <td>2146.000000</td>\n",
       "    </tr>\n",
       "    <tr>\n",
       "      <th>mean</th>\n",
       "      <td>0.277579</td>\n",
       "      <td>0.178172</td>\n",
       "      <td>0.014480</td>\n",
       "      <td>0.054692</td>\n",
       "      <td>0.006312</td>\n",
       "      <td>0.129515</td>\n",
       "    </tr>\n",
       "    <tr>\n",
       "      <th>std</th>\n",
       "      <td>1.289689</td>\n",
       "      <td>0.740439</td>\n",
       "      <td>0.543991</td>\n",
       "      <td>0.497983</td>\n",
       "      <td>0.481377</td>\n",
       "      <td>0.456469</td>\n",
       "    </tr>\n",
       "    <tr>\n",
       "      <th>min</th>\n",
       "      <td>-13.679996</td>\n",
       "      <td>-9.489994</td>\n",
       "      <td>-3.250000</td>\n",
       "      <td>-2.909998</td>\n",
       "      <td>-3.969997</td>\n",
       "      <td>-3.110001</td>\n",
       "    </tr>\n",
       "    <tr>\n",
       "      <th>25%</th>\n",
       "      <td>-0.102501</td>\n",
       "      <td>-0.039999</td>\n",
       "      <td>-0.149998</td>\n",
       "      <td>-0.110001</td>\n",
       "      <td>-0.150002</td>\n",
       "      <td>-0.049999</td>\n",
       "    </tr>\n",
       "    <tr>\n",
       "      <th>50%</th>\n",
       "      <td>0.289999</td>\n",
       "      <td>0.229999</td>\n",
       "      <td>0.090000</td>\n",
       "      <td>0.100000</td>\n",
       "      <td>0.050001</td>\n",
       "      <td>0.149998</td>\n",
       "    </tr>\n",
       "    <tr>\n",
       "      <th>75%</th>\n",
       "      <td>0.800001</td>\n",
       "      <td>0.480001</td>\n",
       "      <td>0.260000</td>\n",
       "      <td>0.299997</td>\n",
       "      <td>0.200003</td>\n",
       "      <td>0.300001</td>\n",
       "    </tr>\n",
       "    <tr>\n",
       "      <th>max</th>\n",
       "      <td>3.949997</td>\n",
       "      <td>3.290001</td>\n",
       "      <td>2.099998</td>\n",
       "      <td>4.900000</td>\n",
       "      <td>2.080002</td>\n",
       "      <td>3.119995</td>\n",
       "    </tr>\n",
       "  </tbody>\n",
       "</table>\n",
       "</div>"
      ],
      "text/plain": [
       "                M2           M3           M4           M5           M6  \\\n",
       "count  2656.000000  2656.000000  2656.000000  2629.000000  2455.000000   \n",
       "mean      0.277579     0.178172     0.014480     0.054692     0.006312   \n",
       "std       1.289689     0.740439     0.543991     0.497983     0.481377   \n",
       "min     -13.679996    -9.489994    -3.250000    -2.909998    -3.969997   \n",
       "25%      -0.102501    -0.039999    -0.149998    -0.110001    -0.150002   \n",
       "50%       0.289999     0.229999     0.090000     0.100000     0.050001   \n",
       "75%       0.800001     0.480001     0.260000     0.299997     0.200003   \n",
       "max       3.949997     3.290001     2.099998     4.900000     2.080002   \n",
       "\n",
       "                M7  \n",
       "count  2146.000000  \n",
       "mean      0.129515  \n",
       "std       0.456469  \n",
       "min      -3.110001  \n",
       "25%      -0.049999  \n",
       "50%       0.149998  \n",
       "75%       0.300001  \n",
       "max       3.119995  "
      ]
     },
     "execution_count": 5,
     "metadata": {},
     "output_type": "execute_result"
    }
   ],
   "source": [
    "y.describe()"
   ]
  },
  {
   "cell_type": "code",
   "execution_count": 6,
   "metadata": {},
   "outputs": [],
   "source": [
    "def splitted_dataset(x, y, validation_split = 0.15, test_split = 0.15):\n",
    "    assert len(x) == len(y)\n",
    "    val_length = int(len(x) * validation_split / 2)\n",
    "    test_length = int(len(x) * test_split / 2)\n",
    "    x_fst = x.iloc[:int(len(x) / 2)]\n",
    "    x_snd = x.iloc[int(len(x) / 2):]\n",
    "    y_fst = y.iloc[:int(len(y) / 2)]\n",
    "    y_snd = y.iloc[int(len(y) / 2):]\n",
    "    x_train, y_train = (x_fst.iloc[:-(val_length + test_length)].append(x_snd.iloc[:-(val_length + test_length)]),\n",
    "                        y_fst.iloc[:-(val_length + test_length)].append(y_snd.iloc[:-(val_length + test_length)]))\n",
    "    x_val, y_val = (x_fst.iloc[-(val_length + test_length):-test_length].append(x_snd.iloc[-(val_length + test_length):-test_length]),\n",
    "                    y_fst.iloc[-(val_length + test_length):-test_length].append(y_snd.iloc[-(val_length + test_length):-test_length]))\n",
    "    x_test, y_test = (x_fst.iloc[-test_length:].append(x_snd.iloc[-test_length:]),\n",
    "                      y_fst.iloc[-test_length:].append(y_snd[-test_length:]))\n",
    "    return (x_train, y_train), (x_val, y_val), (x_test, y_test)"
   ]
  },
  {
   "cell_type": "markdown",
   "metadata": {},
   "source": [
    "# Classification\n",
    "\n",
    "Use up to five categories, thresholding with these values:\n",
    "\n",
    "* \\+ → 0.1\n",
    "* 0 → 0\n",
    "* \\- → -0.1"
   ]
  },
  {
   "cell_type": "code",
   "execution_count": 86,
   "metadata": {},
   "outputs": [],
   "source": [
    "def get_categories(y):\n",
    "    y = y.dropna()\n",
    "    plus = (0.1 < y)\n",
    "    zero = (-0.1 <= y) & (y <= 0.1)\n",
    "    minus = (y < -0.1)\n",
    "    return plus, zero, minus"
   ]
  },
  {
   "cell_type": "code",
   "execution_count": 87,
   "metadata": {},
   "outputs": [],
   "source": [
    "def get_count(plus, zero, minus):\n",
    "    return pd.concat(map(operator.methodcaller(\"sum\"), [plus, zero, minus]), axis=1, keys=[\"plus\", \"zero\", \"minus\"])"
   ]
  },
  {
   "cell_type": "code",
   "execution_count": 113,
   "metadata": {},
   "outputs": [
    {
     "data": {
      "image/png": "[encoded data removed]",
      "text/plain": [
       "<matplotlib.figure.Figure at 0x7f439cf95ef0>"
      ]
     },
     "metadata": {},
     "output_type": "display_data"
    }
   ],
   "source": [
    "plus, zero, minus = get_categories(y)\n",
    "count = get_count(plus, zero, minus)\n",
    "count.plot.bar()\n",
    "plt.title(\"Number of samples per category.\")\n",
    "plt.show()"
   ]
  },
  {
   "cell_type": "code",
   "execution_count": 120,
   "metadata": {},
   "outputs": [
    {
     "data": {
      "text/html": [
       "<div>\n",
       "<style>\n",
       "    .dataframe thead tr:only-child th {\n",
       "        text-align: right;\n",
       "    }\n",
       "\n",
       "    .dataframe thead th {\n",
       "        text-align: left;\n",
       "    }\n",
       "\n",
       "    .dataframe tbody tr th {\n",
       "        vertical-align: top;\n",
       "    }\n",
       "</style>\n",
       "<table border=\"1\" class=\"dataframe\">\n",
       "  <thead>\n",
       "    <tr style=\"text-align: right;\">\n",
       "      <th></th>\n",
       "      <th>plus</th>\n",
       "      <th>zero</th>\n",
       "      <th>minus</th>\n",
       "    </tr>\n",
       "  </thead>\n",
       "  <tbody>\n",
       "    <tr>\n",
       "      <th>M2</th>\n",
       "      <td>1.0</td>\n",
       "      <td>5.567797</td>\n",
       "      <td>2.204698</td>\n",
       "    </tr>\n",
       "    <tr>\n",
       "      <th>M3</th>\n",
       "      <td>1.0</td>\n",
       "      <td>4.259939</td>\n",
       "      <td>3.269953</td>\n",
       "    </tr>\n",
       "    <tr>\n",
       "      <th>M4</th>\n",
       "      <td>1.0</td>\n",
       "      <td>2.246888</td>\n",
       "      <td>1.864028</td>\n",
       "    </tr>\n",
       "    <tr>\n",
       "      <th>M5</th>\n",
       "      <td>1.0</td>\n",
       "      <td>2.354701</td>\n",
       "      <td>1.913194</td>\n",
       "    </tr>\n",
       "    <tr>\n",
       "      <th>M6</th>\n",
       "      <td>1.0</td>\n",
       "      <td>1.507438</td>\n",
       "      <td>1.449921</td>\n",
       "    </tr>\n",
       "    <tr>\n",
       "      <th>M7</th>\n",
       "      <td>1.0</td>\n",
       "      <td>2.995238</td>\n",
       "      <td>2.688034</td>\n",
       "    </tr>\n",
       "  </tbody>\n",
       "</table>\n",
       "</div>"
      ],
      "text/plain": [
       "    plus      zero     minus\n",
       "M2   1.0  5.567797  2.204698\n",
       "M3   1.0  4.259939  3.269953\n",
       "M4   1.0  2.246888  1.864028\n",
       "M5   1.0  2.354701  1.913194\n",
       "M6   1.0  1.507438  1.449921\n",
       "M7   1.0  2.995238  2.688034"
      ]
     },
     "execution_count": 120,
     "metadata": {},
     "output_type": "execute_result"
    }
   ],
   "source": [
    "scaling = count.apply(lambda x: [1 / (xi / x[0]) for xi in x], axis=1)\n",
    "scaling\n",
    "# The necessary scaling factor"
   ]
  },
  {
   "cell_type": "markdown",
   "metadata": {},
   "source": [
    "That is not very balanced. Better take zero and minus category times two."
   ]
  },
  {
   "cell_type": "code",
   "execution_count": 89,
   "metadata": {},
   "outputs": [
    {
     "data": {
      "image/png": "[encoded data removed]",
      "text/plain": [
       "<matplotlib.figure.Figure at 0x7f439d2098d0>"
      ]
     },
     "metadata": {},
     "output_type": "display_data"
    },
    {
     "data": {
      "image/png": "[encoded data removed]",
      "text/plain": [
       "<matplotlib.figure.Figure at 0x7f439d261b00>"
      ]
     },
     "metadata": {},
     "output_type": "display_data"
    },
    {
     "data": {
      "image/png": "[encoded data removed]",
      "text/plain": [
       "<matplotlib.figure.Figure at 0x7f439d15d4a8>"
      ]
     },
     "metadata": {},
     "output_type": "display_data"
    }
   ],
   "source": [
    "for dataset, name in zip(splitted_dataset(x, y), (\"Training Set\", \"Validation Set\", \"Test Set\")):\n",
    "    cats = get_categories(y)\n",
    "    cnt = get_count(*cats)\n",
    "    cnt.plot.bar(figsize=(12, 3))\n",
    "    plt.title(name)\n",
    "plt.show()"
   ]
  },
  {
   "cell_type": "markdown",
   "metadata": {},
   "source": [
    "Even the splitted data sets look similar. Seems there is no problem with doubling the underrepresented categories."
   ]
  },
  {
   "cell_type": "markdown",
   "metadata": {},
   "source": [
    "## Now for the mapping\n",
    "\n",
    "$N \\times M \\to N \\times M \\times 3$"
   ]
  },
  {
   "cell_type": "code",
   "execution_count": 172,
   "metadata": {},
   "outputs": [
    {
     "data": {
      "text/plain": [
       "(2146, 6, 3)"
      ]
     },
     "execution_count": 172,
     "metadata": {},
     "output_type": "execute_result"
    }
   ],
   "source": [
    "target = np.dstack((plus.values, zero.values, minus.values)).astype(float)\n",
    "target.shape"
   ]
  },
  {
   "cell_type": "code",
   "execution_count": 173,
   "metadata": {},
   "outputs": [
    {
     "data": {
      "text/plain": [
       "(2146, 6, 3)"
      ]
     },
     "execution_count": 173,
     "metadata": {},
     "output_type": "execute_result"
    }
   ],
   "source": [
    "scaled_target = target * scaling.values\n",
    "scaled_target.shape"
   ]
  },
  {
   "cell_type": "code",
   "execution_count": 190,
   "metadata": {},
   "outputs": [
    {
     "data": {
      "text/plain": [
       "(2146, 7)"
      ]
     },
     "execution_count": 190,
     "metadata": {},
     "output_type": "execute_result"
    }
   ],
   "source": [
    "inputs = x.dropna().values\n",
    "inputs = np.diff(inputs, axis=1)\n",
    "inputs.shape"
   ]
  },
  {
   "cell_type": "markdown",
   "metadata": {},
   "source": [
    "## Testwise training\n",
    "\n",
    "Only for first leg"
   ]
  },
  {
   "cell_type": "code",
   "execution_count": 244,
   "metadata": {},
   "outputs": [],
   "source": [
    "leg_nr = 0\n",
    "(x_train, y_train), (x_val, y_val), (x_test, y_test) = splitted_dataset(\n",
    "    pd.DataFrame(inputs), pd.DataFrame(target[:,leg_nr,:]))"
   ]
  },
  {
   "cell_type": "code",
   "execution_count": 245,
   "metadata": {},
   "outputs": [
    {
     "name": "stdout",
     "output_type": "stream",
     "text": [
      "_________________________________________________________________\n",
      "Layer (type)                 Output Shape              Param #   \n",
      "=================================================================\n",
      "inputs (InputLayer)          (None, 7)                 0         \n",
      "_________________________________________________________________\n",
      "hidden (Dense)               (None, 30)                240       \n",
      "_________________________________________________________________\n",
      "predictions (Dense)          (None, 3)                 93        \n",
      "=================================================================\n",
      "Total params: 333\n",
      "Trainable params: 333\n",
      "Non-trainable params: 0\n",
      "_________________________________________________________________\n",
      "None\n",
      "Train on 1506 samples, validate on 320 samples\n",
      "Epoch 1/100\n",
      "1506/1506 [==============================] - 0s - loss: 2.0816 - acc: 0.5770 - val_loss: 0.8028 - val_acc: 0.8250\n",
      "Epoch 2/100\n",
      "1506/1506 [==============================] - 0s - loss: 1.7912 - acc: 0.6414 - val_loss: 0.6758 - val_acc: 0.8844\n",
      "Epoch 3/100\n",
      "1506/1506 [==============================] - 0s - loss: 1.6482 - acc: 0.7052 - val_loss: 0.5893 - val_acc: 0.8875\n",
      "Epoch 4/100\n",
      "1506/1506 [==============================] - 0s - loss: 1.5429 - acc: 0.7092 - val_loss: 0.5121 - val_acc: 0.8906\n",
      "Epoch 5/100\n",
      "1506/1506 [==============================] - 0s - loss: 1.4525 - acc: 0.7244 - val_loss: 0.4665 - val_acc: 0.8938\n",
      "Epoch 6/100\n",
      "1506/1506 [==============================] - 0s - loss: 1.3737 - acc: 0.7251 - val_loss: 0.4332 - val_acc: 0.8875\n",
      "Epoch 7/100\n",
      "1506/1506 [==============================] - 0s - loss: 1.3012 - acc: 0.7331 - val_loss: 0.4095 - val_acc: 0.8750\n",
      "Epoch 8/100\n",
      "1506/1506 [==============================] - 0s - loss: 1.2491 - acc: 0.7025 - val_loss: 0.3641 - val_acc: 0.8938\n",
      "Epoch 9/100\n",
      "1506/1506 [==============================] - 0s - loss: 1.1923 - acc: 0.7756 - val_loss: 0.3380 - val_acc: 0.8969\n",
      "Epoch 10/100\n",
      "1506/1506 [==============================] - 0s - loss: 1.1441 - acc: 0.7729 - val_loss: 0.3100 - val_acc: 0.9062\n",
      "Epoch 11/100\n",
      "1506/1506 [==============================] - 0s - loss: 1.1011 - acc: 0.7908 - val_loss: 0.2950 - val_acc: 0.9156\n",
      "Epoch 12/100\n",
      "1506/1506 [==============================] - 0s - loss: 1.0613 - acc: 0.7869 - val_loss: 0.2907 - val_acc: 0.9000\n",
      "Epoch 13/100\n",
      "1506/1506 [==============================] - 0s - loss: 1.0221 - acc: 0.7756 - val_loss: 0.2655 - val_acc: 0.9219\n",
      "Epoch 14/100\n",
      "1506/1506 [==============================] - 0s - loss: 0.9872 - acc: 0.8048 - val_loss: 0.2575 - val_acc: 0.9187\n",
      "Epoch 15/100\n",
      "1506/1506 [==============================] - 0s - loss: 0.9577 - acc: 0.8048 - val_loss: 0.2525 - val_acc: 0.9250\n",
      "Epoch 16/100\n",
      "1506/1506 [==============================] - 0s - loss: 0.9344 - acc: 0.7782 - val_loss: 0.2289 - val_acc: 0.9344\n",
      "Epoch 17/100\n",
      "1506/1506 [==============================] - 0s - loss: 0.9018 - acc: 0.8167 - val_loss: 0.2317 - val_acc: 0.9219\n",
      "Epoch 18/100\n",
      "1506/1506 [==============================] - 0s - loss: 0.8765 - acc: 0.8260 - val_loss: 0.2224 - val_acc: 0.9281\n",
      "Epoch 19/100\n",
      "1506/1506 [==============================] - 0s - loss: 0.8534 - acc: 0.8274 - val_loss: 0.2211 - val_acc: 0.9281\n",
      "Epoch 20/100\n",
      "1506/1506 [==============================] - 0s - loss: 0.8286 - acc: 0.8393 - val_loss: 0.2097 - val_acc: 0.9313\n",
      "Epoch 21/100\n",
      "1506/1506 [==============================] - 0s - loss: 0.8066 - acc: 0.8426 - val_loss: 0.2012 - val_acc: 0.9313\n",
      "Epoch 22/100\n",
      "1506/1506 [==============================] - 0s - loss: 0.7868 - acc: 0.8486 - val_loss: 0.1965 - val_acc: 0.9313\n",
      "Epoch 23/100\n",
      "1506/1506 [==============================] - 0s - loss: 0.7655 - acc: 0.8513 - val_loss: 0.1923 - val_acc: 0.9344\n",
      "Epoch 24/100\n",
      "1506/1506 [==============================] - 0s - loss: 0.7467 - acc: 0.8446 - val_loss: 0.1828 - val_acc: 0.9344\n",
      "Epoch 25/100\n",
      "1506/1506 [==============================] - 0s - loss: 0.7279 - acc: 0.8672 - val_loss: 0.1731 - val_acc: 0.9437\n",
      "Epoch 26/100\n",
      "1506/1506 [==============================] - 0s - loss: 0.7096 - acc: 0.8579 - val_loss: 0.1661 - val_acc: 0.9469\n",
      "Epoch 27/100\n",
      "1506/1506 [==============================] - 0s - loss: 0.6927 - acc: 0.8745 - val_loss: 0.1647 - val_acc: 0.9437\n",
      "Epoch 28/100\n",
      "1506/1506 [==============================] - 0s - loss: 0.6760 - acc: 0.8679 - val_loss: 0.1672 - val_acc: 0.9344\n",
      "Epoch 29/100\n",
      "1506/1506 [==============================] - 0s - loss: 0.6583 - acc: 0.8752 - val_loss: 0.1603 - val_acc: 0.9406\n",
      "Epoch 30/100\n",
      "1506/1506 [==============================] - 0s - loss: 0.6428 - acc: 0.8705 - val_loss: 0.1561 - val_acc: 0.9406\n",
      "Epoch 31/100\n",
      "1506/1506 [==============================] - 0s - loss: 0.6275 - acc: 0.8805 - val_loss: 0.1493 - val_acc: 0.9437\n",
      "Epoch 32/100\n",
      "1506/1506 [==============================] - 0s - loss: 0.6137 - acc: 0.8851 - val_loss: 0.1437 - val_acc: 0.9437\n",
      "Epoch 33/100\n",
      "1506/1506 [==============================] - 0s - loss: 0.6053 - acc: 0.8845 - val_loss: 0.1545 - val_acc: 0.9375\n",
      "Epoch 34/100\n",
      "1506/1506 [==============================] - 0s - loss: 0.5859 - acc: 0.8858 - val_loss: 0.1452 - val_acc: 0.9437\n",
      "Epoch 35/100\n",
      "1506/1506 [==============================] - 0s - loss: 0.5728 - acc: 0.8785 - val_loss: 0.1437 - val_acc: 0.9375\n",
      "Epoch 36/100\n",
      "1506/1506 [==============================] - 0s - loss: 0.5607 - acc: 0.8851 - val_loss: 0.1363 - val_acc: 0.9406\n",
      "Epoch 37/100\n",
      "1506/1506 [==============================] - 0s - loss: 0.5488 - acc: 0.9031 - val_loss: 0.1307 - val_acc: 0.9406\n",
      "Epoch 38/100\n",
      "1506/1506 [==============================] - 0s - loss: 0.5373 - acc: 0.9004 - val_loss: 0.1413 - val_acc: 0.9313\n",
      "Epoch 39/100\n",
      "1506/1506 [==============================] - 0s - loss: 0.5263 - acc: 0.8977 - val_loss: 0.1367 - val_acc: 0.9375\n",
      "Epoch 40/100\n",
      "1506/1506 [==============================] - 0s - loss: 0.5144 - acc: 0.8931 - val_loss: 0.1314 - val_acc: 0.9406\n",
      "Epoch 41/100\n",
      "1506/1506 [==============================] - 0s - loss: 0.5063 - acc: 0.8871 - val_loss: 0.1298 - val_acc: 0.9406\n",
      "Epoch 42/100\n",
      "1506/1506 [==============================] - 0s - loss: 0.4956 - acc: 0.9011 - val_loss: 0.1242 - val_acc: 0.9406\n",
      "Epoch 43/100\n",
      "1506/1506 [==============================] - 0s - loss: 0.4844 - acc: 0.8997 - val_loss: 0.1128 - val_acc: 0.9437\n",
      "Epoch 44/100\n",
      "1506/1506 [==============================] - 0s - loss: 0.4765 - acc: 0.9110 - val_loss: 0.1214 - val_acc: 0.9406\n",
      "Epoch 45/100\n",
      "1506/1506 [==============================] - 0s - loss: 0.4642 - acc: 0.9050 - val_loss: 0.1174 - val_acc: 0.9406\n",
      "Epoch 46/100\n",
      "1506/1506 [==============================] - 0s - loss: 0.4573 - acc: 0.9130 - val_loss: 0.1156 - val_acc: 0.9469\n",
      "Epoch 47/100\n",
      "1506/1506 [==============================] - 0s - loss: 0.4525 - acc: 0.9130 - val_loss: 0.1102 - val_acc: 0.9437\n",
      "Epoch 48/100\n",
      "1506/1506 [==============================] - 0s - loss: 0.4419 - acc: 0.9117 - val_loss: 0.1056 - val_acc: 0.9437\n",
      "Epoch 49/100\n",
      "1506/1506 [==============================] - 0s - loss: 0.4326 - acc: 0.9190 - val_loss: 0.1089 - val_acc: 0.9406\n",
      "Epoch 50/100\n",
      "1506/1506 [==============================] - 0s - loss: 0.4232 - acc: 0.9150 - val_loss: 0.1036 - val_acc: 0.9406\n",
      "Epoch 51/100\n",
      "1506/1506 [==============================] - 0s - loss: 0.4156 - acc: 0.9163 - val_loss: 0.1058 - val_acc: 0.9406\n",
      "Epoch 52/100\n",
      "1506/1506 [==============================] - 0s - loss: 0.4115 - acc: 0.9143 - val_loss: 0.1007 - val_acc: 0.9406\n",
      "Epoch 53/100\n",
      "1506/1506 [==============================] - 0s - loss: 0.4025 - acc: 0.9143 - val_loss: 0.1037 - val_acc: 0.9437\n",
      "Epoch 54/100\n",
      "1506/1506 [==============================] - 0s - loss: 0.3955 - acc: 0.9143 - val_loss: 0.1013 - val_acc: 0.9406\n",
      "Epoch 55/100\n",
      "1506/1506 [==============================] - 0s - loss: 0.3881 - acc: 0.9143 - val_loss: 0.0984 - val_acc: 0.9469\n",
      "Epoch 56/100\n",
      "1506/1506 [==============================] - 0s - loss: 0.3828 - acc: 0.9203 - val_loss: 0.0970 - val_acc: 0.9531\n",
      "Epoch 57/100\n",
      "1506/1506 [==============================] - 0s - loss: 0.3765 - acc: 0.9157 - val_loss: 0.0959 - val_acc: 0.9531\n",
      "Epoch 58/100\n",
      "1506/1506 [==============================] - 0s - loss: 0.3724 - acc: 0.9263 - val_loss: 0.0958 - val_acc: 0.9531\n",
      "Epoch 59/100\n",
      "1506/1506 [==============================] - 0s - loss: 0.3650 - acc: 0.9243 - val_loss: 0.0931 - val_acc: 0.9531\n",
      "Epoch 60/100\n",
      "1506/1506 [==============================] - 0s - loss: 0.3603 - acc: 0.9243 - val_loss: 0.0938 - val_acc: 0.9531\n",
      "Epoch 61/100\n",
      "1506/1506 [==============================] - 0s - loss: 0.3522 - acc: 0.9250 - val_loss: 0.0917 - val_acc: 0.9500\n",
      "Epoch 62/100\n",
      "1506/1506 [==============================] - 0s - loss: 0.3477 - acc: 0.9270 - val_loss: 0.0951 - val_acc: 0.9563\n",
      "Epoch 63/100\n",
      "1506/1506 [==============================] - 0s - loss: 0.3425 - acc: 0.9223 - val_loss: 0.0920 - val_acc: 0.9531\n",
      "Epoch 64/100\n",
      "1506/1506 [==============================] - 0s - loss: 0.3373 - acc: 0.9283 - val_loss: 0.0916 - val_acc: 0.9531\n",
      "Epoch 65/100\n",
      "1506/1506 [==============================] - 0s - loss: 0.3316 - acc: 0.9250 - val_loss: 0.0867 - val_acc: 0.9531\n",
      "Epoch 66/100\n",
      "1506/1506 [==============================] - 0s - loss: 0.3283 - acc: 0.9429 - val_loss: 0.0912 - val_acc: 0.9531\n",
      "Epoch 67/100\n",
      "1506/1506 [==============================] - 0s - loss: 0.3229 - acc: 0.9263 - val_loss: 0.0851 - val_acc: 0.9531\n",
      "Epoch 68/100\n",
      "1506/1506 [==============================] - 0s - loss: 0.3203 - acc: 0.9303 - val_loss: 0.0875 - val_acc: 0.9563\n",
      "Epoch 69/100\n",
      "1506/1506 [==============================] - 0s - loss: 0.3152 - acc: 0.9356 - val_loss: 0.0863 - val_acc: 0.9594\n",
      "Epoch 70/100\n",
      "1506/1506 [==============================] - 0s - loss: 0.3099 - acc: 0.9336 - val_loss: 0.0857 - val_acc: 0.9594\n",
      "Epoch 71/100\n",
      "1506/1506 [==============================] - 0s - loss: 0.3060 - acc: 0.9349 - val_loss: 0.0819 - val_acc: 0.9563\n",
      "Epoch 72/100\n",
      "1506/1506 [==============================] - 0s - loss: 0.3022 - acc: 0.9442 - val_loss: 0.0843 - val_acc: 0.9594\n",
      "Epoch 73/100\n",
      "1506/1506 [==============================] - 0s - loss: 0.3001 - acc: 0.9296 - val_loss: 0.0829 - val_acc: 0.9500\n",
      "Epoch 74/100\n",
      "1506/1506 [==============================] - 0s - loss: 0.2945 - acc: 0.9416 - val_loss: 0.0863 - val_acc: 0.9594\n",
      "Epoch 75/100\n",
      "1506/1506 [==============================] - 0s - loss: 0.2918 - acc: 0.9349 - val_loss: 0.0804 - val_acc: 0.9594\n",
      "Epoch 76/100\n",
      "1506/1506 [==============================] - 0s - loss: 0.2890 - acc: 0.9416 - val_loss: 0.0820 - val_acc: 0.9594\n",
      "Epoch 77/100\n",
      "1506/1506 [==============================] - 0s - loss: 0.2838 - acc: 0.9489 - val_loss: 0.0829 - val_acc: 0.9594\n",
      "Epoch 78/100\n",
      "1506/1506 [==============================] - 0s - loss: 0.2810 - acc: 0.9356 - val_loss: 0.0748 - val_acc: 0.9594\n",
      "Epoch 79/100\n",
      "1506/1506 [==============================] - 0s - loss: 0.2783 - acc: 0.9429 - val_loss: 0.0787 - val_acc: 0.9625\n",
      "Epoch 80/100\n",
      "1506/1506 [==============================] - 0s - loss: 0.2782 - acc: 0.9462 - val_loss: 0.0778 - val_acc: 0.9656\n",
      "Epoch 81/100\n",
      "1506/1506 [==============================] - 0s - loss: 0.2708 - acc: 0.9456 - val_loss: 0.0752 - val_acc: 0.9656\n",
      "Epoch 82/100\n",
      "1506/1506 [==============================] - 0s - loss: 0.2670 - acc: 0.9449 - val_loss: 0.0736 - val_acc: 0.9656\n",
      "Epoch 83/100\n",
      "1506/1506 [==============================] - 0s - loss: 0.2750 - acc: 0.9316 - val_loss: 0.0730 - val_acc: 0.9656\n",
      "Epoch 84/100\n",
      "1506/1506 [==============================] - 0s - loss: 0.2627 - acc: 0.9515 - val_loss: 0.0717 - val_acc: 0.9656\n",
      "Epoch 85/100\n",
      "1506/1506 [==============================] - 0s - loss: 0.2617 - acc: 0.9582 - val_loss: 0.0778 - val_acc: 0.9625\n",
      "Epoch 86/100\n",
      "1506/1506 [==============================] - 0s - loss: 0.2570 - acc: 0.9515 - val_loss: 0.0740 - val_acc: 0.9625\n",
      "Epoch 87/100\n",
      "1506/1506 [==============================] - 0s - loss: 0.2548 - acc: 0.9456 - val_loss: 0.0766 - val_acc: 0.9625\n",
      "Epoch 88/100\n",
      "1506/1506 [==============================] - 0s - loss: 0.2547 - acc: 0.9429 - val_loss: 0.0716 - val_acc: 0.9625\n",
      "Epoch 89/100\n",
      "1506/1506 [==============================] - 0s - loss: 0.2482 - acc: 0.9502 - val_loss: 0.0700 - val_acc: 0.9656\n",
      "Epoch 90/100\n",
      "1506/1506 [==============================] - 0s - loss: 0.2456 - acc: 0.9542 - val_loss: 0.0710 - val_acc: 0.9625\n",
      "Epoch 91/100\n",
      "1506/1506 [==============================] - 0s - loss: 0.2438 - acc: 0.9595 - val_loss: 0.0716 - val_acc: 0.9594\n",
      "Epoch 92/100\n",
      "1506/1506 [==============================] - 0s - loss: 0.2404 - acc: 0.9522 - val_loss: 0.0716 - val_acc: 0.9625\n",
      "Epoch 93/100\n",
      "1506/1506 [==============================] - 0s - loss: 0.2380 - acc: 0.9595 - val_loss: 0.0674 - val_acc: 0.9719\n",
      "Epoch 94/100\n",
      "1506/1506 [==============================] - 0s - loss: 0.2373 - acc: 0.9562 - val_loss: 0.0663 - val_acc: 0.9719\n",
      "Epoch 95/100\n",
      "1506/1506 [==============================] - 0s - loss: 0.2349 - acc: 0.9582 - val_loss: 0.0667 - val_acc: 0.9719\n",
      "Epoch 96/100\n",
      "1506/1506 [==============================] - 0s - loss: 0.2322 - acc: 0.9548 - val_loss: 0.0677 - val_acc: 0.9656\n",
      "Epoch 97/100\n",
      "1506/1506 [==============================] - 0s - loss: 0.2303 - acc: 0.9602 - val_loss: 0.0664 - val_acc: 0.9719\n",
      "Epoch 98/100\n",
      "1506/1506 [==============================] - 0s - loss: 0.2294 - acc: 0.9562 - val_loss: 0.0677 - val_acc: 0.9625\n",
      "Epoch 99/100\n",
      "1506/1506 [==============================] - 0s - loss: 0.2257 - acc: 0.9641 - val_loss: 0.0686 - val_acc: 0.9625\n",
      "Epoch 100/100\n",
      "1506/1506 [==============================] - 0s - loss: 0.2241 - acc: 0.9555 - val_loss: 0.0663 - val_acc: 0.9625\n"
     ]
    },
    {
     "data": {
      "text/plain": [
       "<tensorflow.contrib.keras.python.keras.callbacks.History at 0x7f4365e17860>"
      ]
     },
     "execution_count": 245,
     "metadata": {},
     "output_type": "execute_result"
    }
   ],
   "source": [
    "input_layer = keras.layers.Input(shape=(7,), name=\"inputs\")\n",
    "hidden_layer = keras.layers.Dense(30, activation=\"relu\", name=\"hidden\")(input_layer)\n",
    "output_layer = keras.layers.Dense(3, activation=\"softmax\", name=\"predictions\")(hidden_layer)\n",
    "model = keras.models.Model(inputs=input_layer, outputs=output_layer)\n",
    "print(model.summary())\n",
    "model.compile(optimizer=\"Adam\",\n",
    "              loss='categorical_crossentropy',\n",
    "              metrics=['accuracy'])\n",
    "model.fit(x_train.values, y_train.values, epochs=100, batch_size=32,\n",
    "          validation_data=(x_val.values, y_val.values),\n",
    "          class_weight={k:v for k, v in enumerate(scaling.iloc[leg_nr].values)})"
   ]
  },
  {
   "cell_type": "code",
   "execution_count": 246,
   "metadata": {},
   "outputs": [],
   "source": [
    "test_pred = model.predict(x_test.values)"
   ]
  },
  {
   "cell_type": "code",
   "execution_count": 247,
   "metadata": {},
   "outputs": [],
   "source": [
    "def accuracy(y1, y2):\n",
    "    return np.equal(np.argmax(y1, axis=-1), np.argmax(y2, axis=-1)).sum() / len(y1)"
   ]
  },
  {
   "cell_type": "code",
   "execution_count": 248,
   "metadata": {},
   "outputs": [
    {
     "data": {
      "text/plain": [
       "0.96875"
      ]
     },
     "execution_count": 248,
     "metadata": {},
     "output_type": "execute_result"
    }
   ],
   "source": [
    "# Predicted accuracy\n",
    "accuracy(test_pred, y_test.values)"
   ]
  },
  {
   "cell_type": "code",
   "execution_count": 249,
   "metadata": {},
   "outputs": [
    {
     "data": {
      "text/plain": [
       "0.80250783699059558"
      ]
     },
     "execution_count": 249,
     "metadata": {},
     "output_type": "execute_result"
    }
   ],
   "source": [
    "# Naive accuracy\n",
    "accuracy(y_test.values[:-1], y_test.values[1:])"
   ]
  },
  {
   "cell_type": "markdown",
   "metadata": {},
   "source": [
    "## Conclusion:\n",
    "\n",
    "**Classification works good**\n",
    "\n",
    "That's a kind of boring result"
   ]
  }
 ],
 "metadata": {
  "kernelspec": {
   "display_name": "Python 3",
   "language": "python",
   "name": "python3"
  },
  "language_info": {
   "codemirror_mode": {
    "name": "ipython",
    "version": 3
   },
   "file_extension": ".py",
   "mimetype": "text/x-python",
   "name": "python",
   "nbconvert_exporter": "python",
   "pygments_lexer": "ipython3",
   "version": "3.6.2"
  }
 },
 "nbformat": 4,
 "nbformat_minor": 2
}
