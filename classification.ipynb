{
 "cells": [
  {
   "cell_type": "code",
   "execution_count": 1,
   "metadata": {
    "collapsed": true
   },
   "outputs": [],
   "source": [
    "import operator\n",
    "\n",
    "import pandas as pd\n",
    "import numpy as np\n",
    "import matplotlib.pyplot as plt\n",
    "from matplotlib import rcParams, cm\n",
    "from mpl_toolkits.mplot3d import Axes3D\n",
    "import tensorflow.contrib.keras as keras\n",
    "\n",
    "from vixstructure.data import LongPricesDataset"
   ]
  },
  {
   "cell_type": "code",
   "execution_count": 2,
   "metadata": {
    "collapsed": true
   },
   "outputs": [],
   "source": [
    "rcParams[\"figure.figsize\"] = 12, 6"
   ]
  },
  {
   "cell_type": "code",
   "execution_count": 3,
   "metadata": {
    "collapsed": true
   },
   "outputs": [],
   "source": [
    "dataset = LongPricesDataset(\"data/8_m_settle.csv\", \"data/expirations.csv\")"
   ]
  },
  {
   "cell_type": "code",
   "execution_count": 4,
   "metadata": {
    "collapsed": true
   },
   "outputs": [],
   "source": [
    "x = dataset.term_structure.data_frame\n",
    "y = x.apply(lambda x: [np.nan] + [2*x.iloc[i] - x.iloc[i-1] - x.iloc[i+1] for i in range(1, 7)] + [np.nan],\n",
    "            axis=1).iloc[:, 1:-1]"
   ]
  },
  {
   "cell_type": "code",
   "execution_count": 5,
   "metadata": {},
   "outputs": [
    {
     "data": {
      "text/html": [
       "<div>\n",
       "<style>\n",
       "    .dataframe thead tr:only-child th {\n",
       "        text-align: right;\n",
       "    }\n",
       "\n",
       "    .dataframe thead th {\n",
       "        text-align: left;\n",
       "    }\n",
       "\n",
       "    .dataframe tbody tr th {\n",
       "        vertical-align: top;\n",
       "    }\n",
       "</style>\n",
       "<table border=\"1\" class=\"dataframe\">\n",
       "  <thead>\n",
       "    <tr style=\"text-align: right;\">\n",
       "      <th></th>\n",
       "      <th>M2</th>\n",
       "      <th>M3</th>\n",
       "      <th>M4</th>\n",
       "      <th>M5</th>\n",
       "      <th>M6</th>\n",
       "      <th>M7</th>\n",
       "    </tr>\n",
       "  </thead>\n",
       "  <tbody>\n",
       "    <tr>\n",
       "      <th>count</th>\n",
       "      <td>2656.000000</td>\n",
       "      <td>2656.000000</td>\n",
       "      <td>2656.000000</td>\n",
       "      <td>2629.000000</td>\n",
       "      <td>2455.000000</td>\n",
       "      <td>2146.000000</td>\n",
       "    </tr>\n",
       "    <tr>\n",
       "      <th>mean</th>\n",
       "      <td>0.277579</td>\n",
       "      <td>0.178172</td>\n",
       "      <td>0.014480</td>\n",
       "      <td>0.054692</td>\n",
       "      <td>0.006312</td>\n",
       "      <td>0.129515</td>\n",
       "    </tr>\n",
       "    <tr>\n",
       "      <th>std</th>\n",
       "      <td>1.289689</td>\n",
       "      <td>0.740439</td>\n",
       "      <td>0.543991</td>\n",
       "      <td>0.497983</td>\n",
       "      <td>0.481377</td>\n",
       "      <td>0.456469</td>\n",
       "    </tr>\n",
       "    <tr>\n",
       "      <th>min</th>\n",
       "      <td>-13.679996</td>\n",
       "      <td>-9.489994</td>\n",
       "      <td>-3.250000</td>\n",
       "      <td>-2.909998</td>\n",
       "      <td>-3.969997</td>\n",
       "      <td>-3.110001</td>\n",
       "    </tr>\n",
       "    <tr>\n",
       "      <th>25%</th>\n",
       "      <td>-0.102501</td>\n",
       "      <td>-0.039999</td>\n",
       "      <td>-0.149998</td>\n",
       "      <td>-0.110001</td>\n",
       "      <td>-0.150002</td>\n",
       "      <td>-0.049999</td>\n",
       "    </tr>\n",
       "    <tr>\n",
       "      <th>50%</th>\n",
       "      <td>0.289999</td>\n",
       "      <td>0.229999</td>\n",
       "      <td>0.090000</td>\n",
       "      <td>0.100000</td>\n",
       "      <td>0.050001</td>\n",
       "      <td>0.149998</td>\n",
       "    </tr>\n",
       "    <tr>\n",
       "      <th>75%</th>\n",
       "      <td>0.800001</td>\n",
       "      <td>0.480001</td>\n",
       "      <td>0.260000</td>\n",
       "      <td>0.299997</td>\n",
       "      <td>0.200003</td>\n",
       "      <td>0.300001</td>\n",
       "    </tr>\n",
       "    <tr>\n",
       "      <th>max</th>\n",
       "      <td>3.949997</td>\n",
       "      <td>3.290001</td>\n",
       "      <td>2.099998</td>\n",
       "      <td>4.900000</td>\n",
       "      <td>2.080002</td>\n",
       "      <td>3.119995</td>\n",
       "    </tr>\n",
       "  </tbody>\n",
       "</table>\n",
       "</div>"
      ],
      "text/plain": [
       "                M2           M3           M4           M5           M6  \\\n",
       "count  2656.000000  2656.000000  2656.000000  2629.000000  2455.000000   \n",
       "mean      0.277579     0.178172     0.014480     0.054692     0.006312   \n",
       "std       1.289689     0.740439     0.543991     0.497983     0.481377   \n",
       "min     -13.679996    -9.489994    -3.250000    -2.909998    -3.969997   \n",
       "25%      -0.102501    -0.039999    -0.149998    -0.110001    -0.150002   \n",
       "50%       0.289999     0.229999     0.090000     0.100000     0.050001   \n",
       "75%       0.800001     0.480001     0.260000     0.299997     0.200003   \n",
       "max       3.949997     3.290001     2.099998     4.900000     2.080002   \n",
       "\n",
       "                M7  \n",
       "count  2146.000000  \n",
       "mean      0.129515  \n",
       "std       0.456469  \n",
       "min      -3.110001  \n",
       "25%      -0.049999  \n",
       "50%       0.149998  \n",
       "75%       0.300001  \n",
       "max       3.119995  "
      ]
     },
     "execution_count": 5,
     "metadata": {},
     "output_type": "execute_result"
    }
   ],
   "source": [
    "y.describe()"
   ]
  },
  {
   "cell_type": "code",
   "execution_count": 6,
   "metadata": {
    "collapsed": true
   },
   "outputs": [],
   "source": [
    "def splitted_dataset(x, y, validation_split = 0.15, test_split = 0.15):\n",
    "    assert len(x) == len(y)\n",
    "    val_length = int(len(x) * validation_split / 2)\n",
    "    test_length = int(len(x) * test_split / 2)\n",
    "    x_fst = x.iloc[:int(len(x) / 2)]\n",
    "    x_snd = x.iloc[int(len(x) / 2):]\n",
    "    y_fst = y.iloc[:int(len(y) / 2)]\n",
    "    y_snd = y.iloc[int(len(y) / 2):]\n",
    "    x_train, y_train = (x_fst.iloc[:-(val_length + test_length)].append(x_snd.iloc[:-(val_length + test_length)]),\n",
    "                        y_fst.iloc[:-(val_length + test_length)].append(y_snd.iloc[:-(val_length + test_length)]))\n",
    "    x_val, y_val = (x_fst.iloc[-(val_length + test_length):-test_length].append(x_snd.iloc[-(val_length + test_length):-test_length]),\n",
    "                    y_fst.iloc[-(val_length + test_length):-test_length].append(y_snd.iloc[-(val_length + test_length):-test_length]))\n",
    "    x_test, y_test = (x_fst.iloc[-test_length:].append(x_snd.iloc[-test_length:]),\n",
    "                      y_fst.iloc[-test_length:].append(y_snd[-test_length:]))\n",
    "    return (x_train, y_train), (x_val, y_val), (x_test, y_test)"
   ]
  },
  {
   "cell_type": "markdown",
   "metadata": {},
   "source": [
    "# Classification\n",
    "\n",
    "Use up to five categories, thresholding with these values:\n",
    "\n",
    "* \\+ → 0.1\n",
    "* 0 → 0\n",
    "* \\- → -0.1"
   ]
  },
  {
   "cell_type": "code",
   "execution_count": 7,
   "metadata": {
    "collapsed": true
   },
   "outputs": [],
   "source": [
    "def get_categories(y):\n",
    "    y = y.dropna()\n",
    "    plus = (0.1 < y)\n",
    "    zero = (-0.1 <= y) & (y <= 0.1)\n",
    "    minus = (y < -0.1)\n",
    "    return plus, zero, minus"
   ]
  },
  {
   "cell_type": "code",
   "execution_count": 8,
   "metadata": {
    "collapsed": true
   },
   "outputs": [],
   "source": [
    "def get_count(plus, zero, minus):\n",
    "    return pd.concat(map(operator.methodcaller(\"sum\"), [plus, zero, minus]), axis=1, keys=[\"plus\", \"zero\", \"minus\"])"
   ]
  },
  {
   "cell_type": "code",
   "execution_count": 42,
   "metadata": {},
   "outputs": [
    {
     "data": {
      "image/png": "[encoded data removed]",
      "text/plain": [
       "<matplotlib.figure.Figure at 0x7fea304b6860>"
      ]
     },
     "metadata": {},
     "output_type": "display_data"
    }
   ],
   "source": [
    "plus, zero, minus = get_categories(y)\n",
    "count = get_count(plus, zero, minus)\n",
    "count.plot.bar(figsize=(8, 3))\n",
    "plt.legend((\"> 0.1\", \"≈ 0\", \"< 0.1\"), framealpha=0.7, loc=9)\n",
    "plt.title(\"Number of samples per category.\")\n",
    "plt.xticks(range(6), range(1, 7))\n",
    "plt.xlabel(\"Leg\")\n",
    "plt.ylabel(\"Samples\")\n",
    "plt.savefig(\"classification-samples-per-category.pdf\", format=\"pdf\", dpi=300, bbox_inches=\"tight\")\n",
    "plt.show()"
   ]
  },
  {
   "cell_type": "code",
   "execution_count": 120,
   "metadata": {},
   "outputs": [
    {
     "data": {
      "text/html": [
       "<div>\n",
       "<style>\n",
       "    .dataframe thead tr:only-child th {\n",
       "        text-align: right;\n",
       "    }\n",
       "\n",
       "    .dataframe thead th {\n",
       "        text-align: left;\n",
       "    }\n",
       "\n",
       "    .dataframe tbody tr th {\n",
       "        vertical-align: top;\n",
       "    }\n",
       "</style>\n",
       "<table border=\"1\" class=\"dataframe\">\n",
       "  <thead>\n",
       "    <tr style=\"text-align: right;\">\n",
       "      <th></th>\n",
       "      <th>plus</th>\n",
       "      <th>zero</th>\n",
       "      <th>minus</th>\n",
       "    </tr>\n",
       "  </thead>\n",
       "  <tbody>\n",
       "    <tr>\n",
       "      <th>M2</th>\n",
       "      <td>1.0</td>\n",
       "      <td>5.567797</td>\n",
       "      <td>2.204698</td>\n",
       "    </tr>\n",
       "    <tr>\n",
       "      <th>M3</th>\n",
       "      <td>1.0</td>\n",
       "      <td>4.259939</td>\n",
       "      <td>3.269953</td>\n",
       "    </tr>\n",
       "    <tr>\n",
       "      <th>M4</th>\n",
       "      <td>1.0</td>\n",
       "      <td>2.246888</td>\n",
       "      <td>1.864028</td>\n",
       "    </tr>\n",
       "    <tr>\n",
       "      <th>M5</th>\n",
       "      <td>1.0</td>\n",
       "      <td>2.354701</td>\n",
       "      <td>1.913194</td>\n",
       "    </tr>\n",
       "    <tr>\n",
       "      <th>M6</th>\n",
       "      <td>1.0</td>\n",
       "      <td>1.507438</td>\n",
       "      <td>1.449921</td>\n",
       "    </tr>\n",
       "    <tr>\n",
       "      <th>M7</th>\n",
       "      <td>1.0</td>\n",
       "      <td>2.995238</td>\n",
       "      <td>2.688034</td>\n",
       "    </tr>\n",
       "  </tbody>\n",
       "</table>\n",
       "</div>"
      ],
      "text/plain": [
       "    plus      zero     minus\n",
       "M2   1.0  5.567797  2.204698\n",
       "M3   1.0  4.259939  3.269953\n",
       "M4   1.0  2.246888  1.864028\n",
       "M5   1.0  2.354701  1.913194\n",
       "M6   1.0  1.507438  1.449921\n",
       "M7   1.0  2.995238  2.688034"
      ]
     },
     "execution_count": 120,
     "metadata": {},
     "output_type": "execute_result"
    }
   ],
   "source": [
    "scaling = count.apply(lambda x: [1 / (xi / x[0]) for xi in x], axis=1)\n",
    "scaling\n",
    "# The necessary scaling factor"
   ]
  },
  {
   "cell_type": "markdown",
   "metadata": {},
   "source": [
    "That is not very balanced. Better take zero and minus category times two."
   ]
  },
  {
   "cell_type": "code",
   "execution_count": 89,
   "metadata": {},
   "outputs": [
    {
     "data": {
      "image/png": "[encoded data removed]",
      "text/plain": [
       "<matplotlib.figure.Figure at 0x7f439d2098d0>"
      ]
     },
     "metadata": {},
     "output_type": "display_data"
    },
    {
     "data": {
      "image/png": "[encoded data removed]",
      "text/plain": [
       "<matplotlib.figure.Figure at 0x7f439d261b00>"
      ]
     },
     "metadata": {},
     "output_type": "display_data"
    },
    {
     "data": {
      "image/png": "[encoded data removed]",
      "text/plain": [
       "<matplotlib.figure.Figure at 0x7f439d15d4a8>"
      ]
     },
     "metadata": {},
     "output_type": "display_data"
    }
   ],
   "source": [
    "for dataset, name in zip(splitted_dataset(x, y), (\"Training Set\", \"Validation Set\", \"Test Set\")):\n",
    "    cats = get_categories(y)\n",
    "    cnt = get_count(*cats)\n",
    "    cnt.plot.bar(figsize=(12, 3))\n",
    "    plt.title(name)\n",
    "plt.show()"
   ]
  },
  {
   "cell_type": "markdown",
   "metadata": {},
   "source": [
    "Even the splitted data sets look similar. Seems there is no problem with doubling the underrepresented categories."
   ]
  },
  {
   "cell_type": "markdown",
   "metadata": {},
   "source": [
    "## Now for the mapping\n",
    "\n",
    "$N \\times M \\to N \\times M \\times 3$"
   ]
  },
  {
   "cell_type": "code",
   "execution_count": 172,
   "metadata": {},
   "outputs": [
    {
     "data": {
      "text/plain": [
       "(2146, 6, 3)"
      ]
     },
     "execution_count": 172,
     "metadata": {},
     "output_type": "execute_result"
    }
   ],
   "source": [
    "target = np.dstack((plus.values, zero.values, minus.values)).astype(float)\n",
    "target.shape"
   ]
  },
  {
   "cell_type": "code",
   "execution_count": 173,
   "metadata": {},
   "outputs": [
    {
     "data": {
      "text/plain": [
       "(2146, 6, 3)"
      ]
     },
     "execution_count": 173,
     "metadata": {},
     "output_type": "execute_result"
    }
   ],
   "source": [
    "scaled_target = target * scaling.values\n",
    "scaled_target.shape"
   ]
  },
  {
   "cell_type": "code",
   "execution_count": 190,
   "metadata": {},
   "outputs": [
    {
     "data": {
      "text/plain": [
       "(2146, 7)"
      ]
     },
     "execution_count": 190,
     "metadata": {},
     "output_type": "execute_result"
    }
   ],
   "source": [
    "inputs = x.dropna().values\n",
    "inputs = np.diff(inputs, axis=1)\n",
    "inputs.shape"
   ]
  },
  {
   "cell_type": "markdown",
   "metadata": {},
   "source": [
    "## Testwise training\n",
    "\n",
    "Only for first leg"
   ]
  },
  {
   "cell_type": "code",
   "execution_count": 262,
   "metadata": {
    "collapsed": true
   },
   "outputs": [],
   "source": [
    "leg_nr = 0\n",
    "(x_train, y_train), (x_val, y_val), (x_test, y_test) = splitted_dataset(\n",
    "    pd.DataFrame(inputs), pd.DataFrame(target[:,leg_nr,:]))"
   ]
  },
  {
   "cell_type": "code",
   "execution_count": 276,
   "metadata": {},
   "outputs": [
    {
     "name": "stdout",
     "output_type": "stream",
     "text": [
      "_________________________________________________________________\n",
      "Layer (type)                 Output Shape              Param #   \n",
      "=================================================================\n",
      "inputs (InputLayer)          (None, 7)                 0         \n",
      "_________________________________________________________________\n",
      "hidden (Dense)               (None, 30)                240       \n",
      "_________________________________________________________________\n",
      "predictions (Dense)          (None, 3)                 93        \n",
      "=================================================================\n",
      "Total params: 333\n",
      "Trainable params: 333\n",
      "Non-trainable params: 0\n",
      "_________________________________________________________________\n",
      "None\n",
      "Train on 1505 samples, validate on 319 samples\n",
      "Epoch 1/100\n",
      "1505/1505 [==============================] - 0s - loss: 2.1602 - acc: 0.5362 - val_loss: 0.8369 - val_acc: 0.8401\n",
      "Epoch 2/100\n",
      "1505/1505 [==============================] - 0s - loss: 1.8694 - acc: 0.6877 - val_loss: 0.7239 - val_acc: 0.8589\n",
      "Epoch 3/100\n",
      "1505/1505 [==============================] - 0s - loss: 1.7584 - acc: 0.6565 - val_loss: 0.6944 - val_acc: 0.8339\n",
      "Epoch 4/100\n",
      "1505/1505 [==============================] - 0s - loss: 1.6892 - acc: 0.6698 - val_loss: 0.6156 - val_acc: 0.8464\n",
      "Epoch 5/100\n",
      "1505/1505 [==============================] - 0s - loss: 1.6310 - acc: 0.6944 - val_loss: 0.5927 - val_acc: 0.8401\n",
      "Epoch 6/100\n",
      "1505/1505 [==============================] - 0s - loss: 1.5881 - acc: 0.6558 - val_loss: 0.5632 - val_acc: 0.8339\n",
      "Epoch 7/100\n",
      "1505/1505 [==============================] - 0s - loss: 1.5470 - acc: 0.6777 - val_loss: 0.5347 - val_acc: 0.8433\n",
      "Epoch 8/100\n",
      "1505/1505 [==============================] - 0s - loss: 1.5170 - acc: 0.6957 - val_loss: 0.5174 - val_acc: 0.8464\n",
      "Epoch 9/100\n",
      "1505/1505 [==============================] - 0s - loss: 1.4929 - acc: 0.7017 - val_loss: 0.5104 - val_acc: 0.8464\n",
      "Epoch 10/100\n",
      "1505/1505 [==============================] - 0s - loss: 1.4708 - acc: 0.6844 - val_loss: 0.4714 - val_acc: 0.8621\n",
      "Epoch 11/100\n",
      "1505/1505 [==============================] - 0s - loss: 1.4529 - acc: 0.6983 - val_loss: 0.5106 - val_acc: 0.8401\n",
      "Epoch 12/100\n",
      "1505/1505 [==============================] - 0s - loss: 1.4357 - acc: 0.6658 - val_loss: 0.4529 - val_acc: 0.8621\n",
      "Epoch 13/100\n",
      "1505/1505 [==============================] - 0s - loss: 1.4216 - acc: 0.7110 - val_loss: 0.4477 - val_acc: 0.8777\n",
      "Epoch 14/100\n",
      "1505/1505 [==============================] - 0s - loss: 1.4078 - acc: 0.7043 - val_loss: 0.4382 - val_acc: 0.8621\n",
      "Epoch 15/100\n",
      "1505/1505 [==============================] - 0s - loss: 1.3987 - acc: 0.6930 - val_loss: 0.4108 - val_acc: 0.8746\n",
      "Epoch 16/100\n",
      "1505/1505 [==============================] - 0s - loss: 1.3920 - acc: 0.7083 - val_loss: 0.4164 - val_acc: 0.8777\n",
      "Epoch 17/100\n",
      "1505/1505 [==============================] - 0s - loss: 1.3817 - acc: 0.6944 - val_loss: 0.4589 - val_acc: 0.8589\n",
      "Epoch 18/100\n",
      "1505/1505 [==============================] - 0s - loss: 1.3703 - acc: 0.7043 - val_loss: 0.4088 - val_acc: 0.8809\n",
      "Epoch 19/100\n",
      "1505/1505 [==============================] - 0s - loss: 1.3638 - acc: 0.7103 - val_loss: 0.4378 - val_acc: 0.8683\n",
      "Epoch 20/100\n",
      "1505/1505 [==============================] - 0s - loss: 1.3631 - acc: 0.6804 - val_loss: 0.4218 - val_acc: 0.8746\n",
      "Epoch 21/100\n",
      "1505/1505 [==============================] - 0s - loss: 1.3572 - acc: 0.7156 - val_loss: 0.4082 - val_acc: 0.8903\n",
      "Epoch 22/100\n",
      "1505/1505 [==============================] - 0s - loss: 1.3564 - acc: 0.7017 - val_loss: 0.3996 - val_acc: 0.8903\n",
      "Epoch 23/100\n",
      "1505/1505 [==============================] - 0s - loss: 1.3535 - acc: 0.7183 - val_loss: 0.4258 - val_acc: 0.8715\n",
      "Epoch 24/100\n",
      "1505/1505 [==============================] - 0s - loss: 1.3490 - acc: 0.7282 - val_loss: 0.4134 - val_acc: 0.8809\n",
      "Epoch 25/100\n",
      "1505/1505 [==============================] - 0s - loss: 1.3414 - acc: 0.7116 - val_loss: 0.4162 - val_acc: 0.8746\n",
      "Epoch 26/100\n",
      "1505/1505 [==============================] - 0s - loss: 1.3357 - acc: 0.7130 - val_loss: 0.4026 - val_acc: 0.8809\n",
      "Epoch 27/100\n",
      "1505/1505 [==============================] - 0s - loss: 1.3346 - acc: 0.7322 - val_loss: 0.4016 - val_acc: 0.8871\n",
      "Epoch 28/100\n",
      "1505/1505 [==============================] - 0s - loss: 1.3303 - acc: 0.7296 - val_loss: 0.4098 - val_acc: 0.8777\n",
      "Epoch 29/100\n",
      "1505/1505 [==============================] - 0s - loss: 1.3282 - acc: 0.7189 - val_loss: 0.4118 - val_acc: 0.8715\n",
      "Epoch 30/100\n",
      "1505/1505 [==============================] - 0s - loss: 1.3281 - acc: 0.7176 - val_loss: 0.4033 - val_acc: 0.8809\n",
      "Epoch 31/100\n",
      "1505/1505 [==============================] - 0s - loss: 1.3233 - acc: 0.7196 - val_loss: 0.4056 - val_acc: 0.8746\n",
      "Epoch 32/100\n",
      "1505/1505 [==============================] - 0s - loss: 1.3220 - acc: 0.7236 - val_loss: 0.4024 - val_acc: 0.8777\n",
      "Epoch 33/100\n",
      "1505/1505 [==============================] - 0s - loss: 1.3188 - acc: 0.7196 - val_loss: 0.3990 - val_acc: 0.8746\n",
      "Epoch 34/100\n",
      "1505/1505 [==============================] - 0s - loss: 1.3163 - acc: 0.7130 - val_loss: 0.3880 - val_acc: 0.8777\n",
      "Epoch 35/100\n",
      "1505/1505 [==============================] - 0s - loss: 1.3148 - acc: 0.7229 - val_loss: 0.3883 - val_acc: 0.8777\n",
      "Epoch 36/100\n",
      "1505/1505 [==============================] - 0s - loss: 1.3157 - acc: 0.7402 - val_loss: 0.3877 - val_acc: 0.8809\n",
      "Epoch 37/100\n",
      "1505/1505 [==============================] - 0s - loss: 1.3118 - acc: 0.7189 - val_loss: 0.4028 - val_acc: 0.8777\n",
      "Epoch 38/100\n",
      "1505/1505 [==============================] - 0s - loss: 1.3161 - acc: 0.7282 - val_loss: 0.3881 - val_acc: 0.8715\n",
      "Epoch 39/100\n",
      "1505/1505 [==============================] - 0s - loss: 1.3077 - acc: 0.7103 - val_loss: 0.3956 - val_acc: 0.8746\n",
      "Epoch 40/100\n",
      "1505/1505 [==============================] - 0s - loss: 1.3061 - acc: 0.7296 - val_loss: 0.3893 - val_acc: 0.8746\n",
      "Epoch 41/100\n",
      "1505/1505 [==============================] - 0s - loss: 1.3037 - acc: 0.7143 - val_loss: 0.3966 - val_acc: 0.8715\n",
      "Epoch 42/100\n",
      "1505/1505 [==============================] - 0s - loss: 1.3026 - acc: 0.7302 - val_loss: 0.3897 - val_acc: 0.8746\n",
      "Epoch 43/100\n",
      "1505/1505 [==============================] - 0s - loss: 1.3016 - acc: 0.7302 - val_loss: 0.3788 - val_acc: 0.8840\n",
      "Epoch 44/100\n",
      "1505/1505 [==============================] - 0s - loss: 1.3083 - acc: 0.7329 - val_loss: 0.3944 - val_acc: 0.8746\n",
      "Epoch 45/100\n",
      "1505/1505 [==============================] - 0s - loss: 1.3067 - acc: 0.7150 - val_loss: 0.3907 - val_acc: 0.8777\n",
      "Epoch 46/100\n",
      "1505/1505 [==============================] - 0s - loss: 1.3014 - acc: 0.7110 - val_loss: 0.3966 - val_acc: 0.8746\n",
      "Epoch 47/100\n",
      "1505/1505 [==============================] - 0s - loss: 1.2972 - acc: 0.7189 - val_loss: 0.3964 - val_acc: 0.8683\n",
      "Epoch 48/100\n",
      "1505/1505 [==============================] - 0s - loss: 1.2967 - acc: 0.7349 - val_loss: 0.3980 - val_acc: 0.8715\n",
      "Epoch 49/100\n",
      "1505/1505 [==============================] - 0s - loss: 1.3129 - acc: 0.7256 - val_loss: 0.3762 - val_acc: 0.8840\n",
      "Epoch 50/100\n",
      "1505/1505 [==============================] - 0s - loss: 1.3136 - acc: 0.6924 - val_loss: 0.3988 - val_acc: 0.8746\n",
      "Epoch 51/100\n",
      "1505/1505 [==============================] - 0s - loss: 1.2938 - acc: 0.7196 - val_loss: 0.3919 - val_acc: 0.8715\n",
      "Epoch 52/100\n",
      "1505/1505 [==============================] - 0s - loss: 1.2918 - acc: 0.7183 - val_loss: 0.3854 - val_acc: 0.8715\n",
      "Epoch 53/100\n",
      "1505/1505 [==============================] - 0s - loss: 1.2892 - acc: 0.7389 - val_loss: 0.3855 - val_acc: 0.8715\n",
      "Epoch 54/100\n",
      "1505/1505 [==============================] - 0s - loss: 1.2885 - acc: 0.7276 - val_loss: 0.3758 - val_acc: 0.8840\n",
      "Epoch 55/100\n",
      "1505/1505 [==============================] - 0s - loss: 1.2878 - acc: 0.7455 - val_loss: 0.3961 - val_acc: 0.8715\n",
      "Epoch 56/100\n",
      "1505/1505 [==============================] - 0s - loss: 1.2872 - acc: 0.7329 - val_loss: 0.3923 - val_acc: 0.8715\n",
      "Epoch 57/100\n",
      "1505/1505 [==============================] - 0s - loss: 1.2843 - acc: 0.7342 - val_loss: 0.3803 - val_acc: 0.8746\n",
      "Epoch 58/100\n",
      "1505/1505 [==============================] - 0s - loss: 1.2850 - acc: 0.7276 - val_loss: 0.3936 - val_acc: 0.8715\n",
      "Epoch 59/100\n",
      "1505/1505 [==============================] - 0s - loss: 1.2831 - acc: 0.7262 - val_loss: 0.3818 - val_acc: 0.8715\n",
      "Epoch 60/100\n",
      "1505/1505 [==============================] - 0s - loss: 1.2839 - acc: 0.7528 - val_loss: 0.3946 - val_acc: 0.8683\n",
      "Epoch 61/100\n",
      "1505/1505 [==============================] - 0s - loss: 1.2842 - acc: 0.7422 - val_loss: 0.3907 - val_acc: 0.8715\n",
      "Epoch 62/100\n",
      "1505/1505 [==============================] - 0s - loss: 1.2800 - acc: 0.7389 - val_loss: 0.3839 - val_acc: 0.8746\n",
      "Epoch 63/100\n",
      "1505/1505 [==============================] - 0s - loss: 1.2803 - acc: 0.7189 - val_loss: 0.3906 - val_acc: 0.8683\n",
      "Epoch 64/100\n",
      "1505/1505 [==============================] - 0s - loss: 1.2794 - acc: 0.7389 - val_loss: 0.3906 - val_acc: 0.8683\n",
      "Epoch 65/100\n",
      "1505/1505 [==============================] - 0s - loss: 1.2792 - acc: 0.7349 - val_loss: 0.3749 - val_acc: 0.8715\n",
      "Epoch 66/100\n",
      "1505/1505 [==============================] - 0s - loss: 1.2820 - acc: 0.7475 - val_loss: 0.3796 - val_acc: 0.8746\n",
      "Epoch 67/100\n",
      "1505/1505 [==============================] - 0s - loss: 1.2751 - acc: 0.7289 - val_loss: 0.3922 - val_acc: 0.8715\n",
      "Epoch 68/100\n",
      "1505/1505 [==============================] - 0s - loss: 1.2752 - acc: 0.7422 - val_loss: 0.3868 - val_acc: 0.8683\n",
      "Epoch 69/100\n",
      "1505/1505 [==============================] - 0s - loss: 1.2730 - acc: 0.7329 - val_loss: 0.3910 - val_acc: 0.8652\n",
      "Epoch 70/100\n",
      "1505/1505 [==============================] - 0s - loss: 1.2765 - acc: 0.7389 - val_loss: 0.3726 - val_acc: 0.8715\n",
      "Epoch 71/100\n",
      "1505/1505 [==============================] - 0s - loss: 1.2743 - acc: 0.7468 - val_loss: 0.3820 - val_acc: 0.8715\n",
      "Epoch 72/100\n",
      "1505/1505 [==============================] - 0s - loss: 1.2747 - acc: 0.7349 - val_loss: 0.3863 - val_acc: 0.8746\n",
      "Epoch 73/100\n",
      "1505/1505 [==============================] - 0s - loss: 1.2770 - acc: 0.7375 - val_loss: 0.3869 - val_acc: 0.8683\n",
      "Epoch 74/100\n",
      "1505/1505 [==============================] - 0s - loss: 1.2702 - acc: 0.7389 - val_loss: 0.3782 - val_acc: 0.8683\n",
      "Epoch 75/100\n",
      "1505/1505 [==============================] - 0s - loss: 1.2697 - acc: 0.7449 - val_loss: 0.3812 - val_acc: 0.8715\n",
      "Epoch 76/100\n",
      "1505/1505 [==============================] - 0s - loss: 1.2702 - acc: 0.7309 - val_loss: 0.3891 - val_acc: 0.8652\n",
      "Epoch 77/100\n",
      "1505/1505 [==============================] - 0s - loss: 1.2730 - acc: 0.7442 - val_loss: 0.3759 - val_acc: 0.8715\n",
      "Epoch 78/100\n",
      "1505/1505 [==============================] - 0s - loss: 1.2662 - acc: 0.7375 - val_loss: 0.3824 - val_acc: 0.8715\n",
      "Epoch 79/100\n",
      "1505/1505 [==============================] - 0s - loss: 1.2652 - acc: 0.7409 - val_loss: 0.3713 - val_acc: 0.8683\n",
      "Epoch 80/100\n",
      "1505/1505 [==============================] - 0s - loss: 1.2663 - acc: 0.7495 - val_loss: 0.3780 - val_acc: 0.8715\n",
      "Epoch 81/100\n",
      "1505/1505 [==============================] - 0s - loss: 1.2663 - acc: 0.7369 - val_loss: 0.3772 - val_acc: 0.8683\n",
      "Epoch 82/100\n",
      "1505/1505 [==============================] - 0s - loss: 1.2697 - acc: 0.7475 - val_loss: 0.3788 - val_acc: 0.8715\n",
      "Epoch 83/100\n",
      "1505/1505 [==============================] - 0s - loss: 1.2647 - acc: 0.7429 - val_loss: 0.3875 - val_acc: 0.8683\n",
      "Epoch 84/100\n",
      "1505/1505 [==============================] - 0s - loss: 1.2752 - acc: 0.7050 - val_loss: 0.3902 - val_acc: 0.8683\n",
      "Epoch 85/100\n",
      "1505/1505 [==============================] - 0s - loss: 1.2624 - acc: 0.7389 - val_loss: 0.3811 - val_acc: 0.8715\n",
      "Epoch 86/100\n",
      "1505/1505 [==============================] - 0s - loss: 1.2618 - acc: 0.7462 - val_loss: 0.3729 - val_acc: 0.8683\n",
      "Epoch 87/100\n",
      "1505/1505 [==============================] - 0s - loss: 1.2630 - acc: 0.7442 - val_loss: 0.3719 - val_acc: 0.8715\n",
      "Epoch 88/100\n",
      "1505/1505 [==============================] - 0s - loss: 1.2625 - acc: 0.7449 - val_loss: 0.3880 - val_acc: 0.8652\n",
      "Epoch 89/100\n",
      "1505/1505 [==============================] - 0s - loss: 1.2593 - acc: 0.7262 - val_loss: 0.3686 - val_acc: 0.8621\n",
      "Epoch 90/100\n",
      "1505/1505 [==============================] - 0s - loss: 1.2633 - acc: 0.7468 - val_loss: 0.3706 - val_acc: 0.8621\n",
      "Epoch 91/100\n",
      "1505/1505 [==============================] - 0s - loss: 1.2595 - acc: 0.7389 - val_loss: 0.3703 - val_acc: 0.8589\n",
      "Epoch 92/100\n",
      "1505/1505 [==============================] - 0s - loss: 1.2668 - acc: 0.7455 - val_loss: 0.3725 - val_acc: 0.8683\n",
      "Epoch 93/100\n",
      "1505/1505 [==============================] - 0s - loss: 1.2558 - acc: 0.7336 - val_loss: 0.3732 - val_acc: 0.8683\n",
      "Epoch 94/100\n",
      "1505/1505 [==============================] - 0s - loss: 1.2593 - acc: 0.7528 - val_loss: 0.3813 - val_acc: 0.8683\n",
      "Epoch 95/100\n",
      "1505/1505 [==============================] - 0s - loss: 1.2565 - acc: 0.7429 - val_loss: 0.3856 - val_acc: 0.8621\n",
      "Epoch 96/100\n",
      "1505/1505 [==============================] - 0s - loss: 1.2542 - acc: 0.7369 - val_loss: 0.3670 - val_acc: 0.8621\n",
      "Epoch 97/100\n",
      "1505/1505 [==============================] - 0s - loss: 1.2548 - acc: 0.7488 - val_loss: 0.3835 - val_acc: 0.8715\n",
      "Epoch 98/100\n",
      "1505/1505 [==============================] - 0s - loss: 1.2527 - acc: 0.7409 - val_loss: 0.3807 - val_acc: 0.8683\n",
      "Epoch 99/100\n",
      "1505/1505 [==============================] - 0s - loss: 1.2527 - acc: 0.7468 - val_loss: 0.3749 - val_acc: 0.8621\n",
      "Epoch 100/100\n",
      "1505/1505 [==============================] - 0s - loss: 1.2524 - acc: 0.7495 - val_loss: 0.3784 - val_acc: 0.8589\n"
     ]
    },
    {
     "data": {
      "text/plain": [
       "<tensorflow.contrib.keras.python.keras.callbacks.History at 0x7f436503d048>"
      ]
     },
     "execution_count": 276,
     "metadata": {},
     "output_type": "execute_result"
    }
   ],
   "source": [
    "input_layer = keras.layers.Input(shape=(7,), name=\"inputs\")\n",
    "hidden_layer = keras.layers.Dense(30, activation=\"relu\", name=\"hidden\")(input_layer)\n",
    "output_layer = keras.layers.Dense(3, activation=\"softmax\", name=\"predictions\")(hidden_layer)\n",
    "model = keras.models.Model(inputs=input_layer, outputs=output_layer)\n",
    "print(model.summary())\n",
    "model.compile(optimizer=\"Adam\",\n",
    "              loss='categorical_crossentropy',\n",
    "              metrics=['accuracy'])\n",
    "model.fit(x_train.values[:-1], y_train.values[1:], epochs=100, batch_size=32,\n",
    "          validation_data=(x_val.values[:-1], y_val.values[1:]),\n",
    "          class_weight={k:v for k, v in enumerate(scaling.iloc[leg_nr].values)})"
   ]
  },
  {
   "cell_type": "code",
   "execution_count": 283,
   "metadata": {
    "collapsed": true
   },
   "outputs": [],
   "source": [
    "test_pred = model.predict(x_test.values[:-1])"
   ]
  },
  {
   "cell_type": "code",
   "execution_count": 278,
   "metadata": {
    "collapsed": true
   },
   "outputs": [],
   "source": [
    "def accuracy(y1, y2):\n",
    "    return np.equal(np.argmax(y1, axis=-1), np.argmax(y2, axis=-1)).sum() / len(y1)"
   ]
  },
  {
   "cell_type": "code",
   "execution_count": 284,
   "metadata": {},
   "outputs": [
    {
     "data": {
      "text/plain": [
       "0.70846394984326022"
      ]
     },
     "execution_count": 284,
     "metadata": {},
     "output_type": "execute_result"
    }
   ],
   "source": [
    "# Predicted accuracy\n",
    "accuracy(test_pred, y_test.values[1:])"
   ]
  },
  {
   "cell_type": "code",
   "execution_count": 285,
   "metadata": {},
   "outputs": [
    {
     "data": {
      "text/plain": [
       "0.80250783699059558"
      ]
     },
     "execution_count": 285,
     "metadata": {},
     "output_type": "execute_result"
    }
   ],
   "source": [
    "# Naive accuracy\n",
    "accuracy(y_test.values[:-1], y_test.values[1:])"
   ]
  },
  {
   "cell_type": "markdown",
   "metadata": {},
   "source": [
    "## Conclusion:\n",
    "\n",
    "Classification works equally bad."
   ]
  },
  {
   "cell_type": "code",
   "execution_count": 328,
   "metadata": {
    "collapsed": true
   },
   "outputs": [],
   "source": [
    "results_dict = {}"
   ]
  },
  {
   "cell_type": "code",
   "execution_count": 332,
   "metadata": {
    "collapsed": true
   },
   "outputs": [],
   "source": [
    "# Try for all the legs:\n",
    "#days = 1\n",
    "for days in range(1, 23, 3):\n",
    "    network_predictions = []\n",
    "    naive_predictions = []\n",
    "    for leg_nr in range(6):\n",
    "        (x_train, y_train), (x_val, y_val), (x_test, y_test) = splitted_dataset(\n",
    "            pd.DataFrame(inputs), pd.DataFrame(target[:,leg_nr,:]))\n",
    "        input_layer = keras.layers.Input(shape=(7,), name=\"inputs\")\n",
    "        hidden_layer = keras.layers.Dense(30, activation=\"relu\", name=\"hidden\")(input_layer)\n",
    "        output_layer = keras.layers.Dense(3, activation=\"softmax\", name=\"predictions\")(hidden_layer)\n",
    "        model = keras.models.Model(inputs=input_layer, outputs=output_layer)\n",
    "        model.compile(optimizer=\"Adam\",\n",
    "                      loss='categorical_crossentropy',\n",
    "                      metrics=['accuracy'])\n",
    "        model.fit(x_train.values[:-days], y_train.values[days:], epochs=100, batch_size=32,\n",
    "                  validation_data=(x_val.values[:-days], y_val.values[days:]),\n",
    "                  class_weight={k:v for k, v in enumerate(scaling.iloc[leg_nr].values)},\n",
    "                  verbose=0)\n",
    "        test_pred = model.predict(x_test.values[:-days])\n",
    "        pred_acc = accuracy(test_pred, y_test.values[days:])\n",
    "        naive_acc = accuracy(y_test.values[:-days], y_test.values[days:])\n",
    "        network_predictions.append(pred_acc)\n",
    "        naive_predictions.append(naive_acc)\n",
    "    results = pd.DataFrame([pd.Series(naive_predictions), pd.Series(network_predictions)])\n",
    "    results.columns = [\"V\" + str(i) for i in range(1, 7)]\n",
    "    results.index = [\"Naive\", \"Network\"]\n",
    "    results_dict[days] = results"
   ]
  },
  {
   "cell_type": "code",
   "execution_count": 396,
   "metadata": {},
   "outputs": [
    {
     "data": {
      "image/png": "[encoded data removed]",
      "text/plain": [
       "<matplotlib.figure.Figure at 0x7f4351c3a9b0>"
      ]
     },
     "metadata": {},
     "output_type": "display_data"
    }
   ],
   "source": [
    "results_dict[1].T.plot.bar(figsize=(4, 4), width=0.8)\n",
    "plt.legend(loc=\"lower center\")\n",
    "plt.axhline(results_dict[1].loc[\"Naive\"].mean(), color=\"#1f77b4\")\n",
    "plt.axhline(results_dict[1].loc[\"Network\"].mean(), color=\"#ff7f0e\")\n",
    "plt.ylabel(\"Accuracy\")\n",
    "plt.xticks(np.arange(6), list(range(1, 7)))\n",
    "plt.savefig(\"classification-1.pdf\", format=\"pdf\", dpi=300, bbox_inches=\"tight\")\n",
    "plt.show()"
   ]
  },
  {
   "cell_type": "code",
   "execution_count": 400,
   "metadata": {},
   "outputs": [
    {
     "data": {
      "image/png": "[encoded data removed]",
      "text/plain": [
       "<matplotlib.figure.Figure at 0x7f4351e4e550>"
      ]
     },
     "metadata": {},
     "output_type": "display_data"
    }
   ],
   "source": [
    "plt.figure(figsize=(4,4))\n",
    "plt.plot(list(results_dict.keys()),\n",
    "         [results_dict[i].loc[\"Naive\"].mean() for i in results_dict],\n",
    "         list(results_dict.keys()),\n",
    "         [results_dict[i].loc[\"Network\"].mean() for i in results_dict],\n",
    "         linewidth=2)\n",
    "plt.legend((\"Naive\", \"Network\"))\n",
    "plt.ylabel(\"Mean accuracy\")\n",
    "plt.axhline(0.5, color=\"grey\", alpha=0.75)\n",
    "plt.xlim(1, 22)\n",
    "plt.grid(axis=\"x\")\n",
    "plt.xticks(list(results_dict.keys()))\n",
    "plt.savefig(\"classification-all.pdf\", format=\"pdf\", dpi=300, bbox_inches=\"tight\")\n",
    "plt.show()"
   ]
  }
 ],
 "metadata": {
  "kernelspec": {
   "display_name": "Python 3",
   "language": "python",
   "name": "python3"
  },
  "language_info": {
   "codemirror_mode": {
    "name": "ipython",
    "version": 3
   },
   "file_extension": ".py",
   "mimetype": "text/x-python",
   "name": "python",
   "nbconvert_exporter": "python",
   "pygments_lexer": "ipython3",
   "version": "3.6.2"
  }
 },
 "nbformat": 4,
 "nbformat_minor": 2
}
