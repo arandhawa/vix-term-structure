{
 "cells": [
  {
   "cell_type": "code",
   "execution_count": 1,
   "metadata": {
    "collapsed": true
   },
   "outputs": [],
   "source": [
    "import os\n",
    "import operator\n",
    "import random\n",
    "\n",
    "import pandas as pd\n",
    "import numpy as np\n",
    "import tensorflow.contrib.keras as keras\n",
    "import matplotlib.pyplot as plt\n",
    "from matplotlib import cm\n",
    "from mpl_toolkits.mplot3d import Axes3D\n",
    "\n",
    "from vixstructure.utils import parse_model_repr\n",
    "from vixstructure.data import LongPricesDataset"
   ]
  },
  {
   "cell_type": "code",
   "execution_count": 4,
   "metadata": {},
   "outputs": [
    {
     "name": "stdout",
     "output_type": "stream",
     "text": [
      "Index(['loss', 'val_loss'], dtype='object')\n"
     ]
    }
   ],
   "source": [
    "directory, _, files = next(os.walk(\"models/experiment05\"))\n",
    "h5_files = tuple(file for file in files if os.path.splitext(file)[1] == \".h5\")\n",
    "csv_files = tuple(file for file in files if os.path.splitext(file)[1] == \".csv\")\n",
    "stats = [(parse_model_repr(os.path.splitext(file)[0]),\n",
    "          pd.read_csv(os.path.join(directory, file), header=0, index_col=0,\n",
    "                      dtype={\"epoch\":int, \"loss\":np.float32, \"val_loss\":np.float32,\n",
    "                             \"denorm_mse\":np.float32, \"val_denorm_mse\":np.float32}))\n",
    "         for file in csv_files]\n",
    "parameters, stats_data = zip(*stats)\n",
    "for d in stats_data:\n",
    "    if len(d.columns) == 2:\n",
    "        use_this_as_columns = d.columns\n",
    "        break\n",
    "for d in stats_data:\n",
    "    if len(d.columns) == 4:\n",
    "        d.drop([\"loss\", \"val_loss\"], axis=1, inplace=True)\n",
    "        d.columns = use_this_as_columns\n",
    "dataframe = pd.concat(stats_data, keys=[(p.optimizer, p.depth, p.width, p.normalized) for p in parameters],\n",
    "                      names=[\"optimizer\", \"depth\", \"width\", \"normalized\"])"
   ]
  },
  {
   "cell_type": "code",
   "execution_count": 9,
   "metadata": {},
   "outputs": [
    {
     "data": {
      "text/plain": [
       "loss        0.142136\n",
       "val_loss    0.116014\n",
       "dtype: float32"
      ]
     },
     "execution_count": 9,
     "metadata": {},
     "output_type": "execute_result"
    }
   ],
   "source": [
    "dataframe.loc[\"SGD\"].min()"
   ]
  },
  {
   "cell_type": "code",
   "execution_count": 10,
   "metadata": {},
   "outputs": [
    {
     "data": {
      "text/plain": [
       "loss        0.034315\n",
       "val_loss    0.081978\n",
       "dtype: float32"
      ]
     },
     "execution_count": 10,
     "metadata": {},
     "output_type": "execute_result"
    }
   ],
   "source": [
    "dataframe.loc[\"Adam\"].min()"
   ]
  }
 ],
 "metadata": {
  "kernelspec": {
   "display_name": "Python 3",
   "language": "python",
   "name": "python3"
  },
  "language_info": {
   "codemirror_mode": {
    "name": "ipython",
    "version": 3
   },
   "file_extension": ".py",
   "mimetype": "text/x-python",
   "name": "python",
   "nbconvert_exporter": "python",
   "pygments_lexer": "ipython3",
   "version": "3.5.2"
  }
 },
 "nbformat": 4,
 "nbformat_minor": 2
}
